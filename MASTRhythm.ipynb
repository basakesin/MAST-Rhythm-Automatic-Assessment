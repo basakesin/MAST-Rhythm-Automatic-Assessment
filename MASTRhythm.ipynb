{
  "nbformat": 4,
  "nbformat_minor": 0,
  "metadata": {
    "colab": {
      "name": "MASTRhythm.ipynb",
      "provenance": [],
      "collapsed_sections": [
        "szpzafbb6gUh",
        "7OpszDzO7h8f",
        "7z1axwfKZ3sw"
      ],
      "include_colab_link": true
    },
    "kernelspec": {
      "name": "python3",
      "display_name": "Python 3"
    },
    "accelerator": "TPU"
  },
  "cells": [
    {
      "cell_type": "markdown",
      "metadata": {
        "id": "view-in-github",
        "colab_type": "text"
      },
      "source": [
        "<a href=\"https://colab.research.google.com/github/basakesin/MAST-Rhythm-Automatic-Assessment/blob/master/MASTRhythm.ipynb\" target=\"_parent\"><img src=\"https://colab.research.google.com/assets/colab-badge.svg\" alt=\"Open In Colab\"/></a>"
      ]
    },
    {
      "cell_type": "markdown",
      "metadata": {
        "id": "t4kHaINjM1tP",
        "colab_type": "text"
      },
      "source": [
        "This notebook contains the code to perform all the analysis steps described in paper: \"....\". Running the cells, you can reproduce all results in the paper. If you use this code in your research please cite the paper above.\n",
        "\n",
        "Some of the functions (marked as '@author: felipevieira') are copied from the two following notebooks:\n",
        "https://github.com/MTG/mast-rhythm-analysis/blob/master/notebooks/BaselineRhythmicAssessmentSystem.ipynb\n",
        "https://github.com/MTG/mast-rhythm-analysis/blob/master/notebooks/PreProcessDataFromMASTDataset.ipynb\n",
        "some of which are edited versions of Essentia library tutorials available here:  https://essentia.upf.edu/essentia_python_tutorial.html"
      ]
    },
    {
      "cell_type": "markdown",
      "metadata": {
        "id": "szpzafbb6gUh",
        "colab_type": "text"
      },
      "source": [
        "# **Install requirements and import libraries**"
      ]
    },
    {
      "cell_type": "code",
      "metadata": {
        "id": "QHw1oOFd4Q3D",
        "colab_type": "code",
        "outputId": "bc3414ab-b351-49da-fe67-536269a70ded",
        "colab": {
          "base_uri": "https://localhost:8080/",
          "height": 0
        }
      },
      "source": [
        "\"\"\"\n",
        "@author: basakesin, barisbozkurt, felipevieira\n",
        "\"\"\"\n",
        "#Install requirements\n",
        "!pip3 install essentia resampy wavio textdistance\n",
        "\n",
        "#Load required packages\n",
        "import os\n",
        "import numpy as np\n",
        "import matplotlib.pyplot as plt\n",
        "from essentia.standard import MonoLoader, OnsetDetection, Windowing, FFT, CartesianToPolar, Onsets, FrameGenerator, Spectrum, Energy\n",
        "from essentia import Pool, array\n",
        "from sklearn.metrics import mean_absolute_error,  mean_squared_error\n",
        "import pandas as pd\n",
        "\n",
        "from sklearn.linear_model import LinearRegression\n",
        "from sklearn.model_selection import train_test_split,KFold, cross_val_score\n",
        "from sklearn.ensemble import ExtraTreesRegressor, VotingRegressor, AdaBoostRegressor, BaggingRegressor, RandomForestRegressor\n",
        "from scipy import spatial, stats\n",
        "import resampy\n",
        "import wavio\n",
        "from numpy import sort"
      ],
      "execution_count": 1,
      "outputs": [
        {
          "output_type": "stream",
          "text": [
            "Collecting essentia\n",
            "\u001b[?25l  Downloading https://files.pythonhosted.org/packages/d6/cf/3c776d02b63fed7b0958bef2ce57b900870e2ac3f1fd8ffbb63f22d0e69e/essentia-2.1b6.dev234-cp36-cp36m-manylinux1_x86_64.whl (11.7MB)\n",
            "\u001b[K     |████████████████████████████████| 11.7MB 3.3MB/s \n",
            "\u001b[?25hRequirement already satisfied: resampy in /usr/local/lib/python3.6/dist-packages (0.2.2)\n",
            "Collecting wavio\n",
            "  Downloading https://files.pythonhosted.org/packages/e6/98/8bf5ea39a3385cc806ba1146a280a113835e5df3b0ad25ca95eea8352040/wavio-0.0.4-py2.py3-none-any.whl\n",
            "Collecting textdistance\n",
            "  Downloading https://files.pythonhosted.org/packages/35/71/87133323736b9b0180f600d477507318dae0abde613a54df33bfd0248614/textdistance-4.2.0-py3-none-any.whl\n",
            "Requirement already satisfied: numpy>=1.8.2 in /usr/local/lib/python3.6/dist-packages (from essentia) (1.18.4)\n",
            "Requirement already satisfied: six in /usr/local/lib/python3.6/dist-packages (from essentia) (1.12.0)\n",
            "Requirement already satisfied: pyyaml in /usr/local/lib/python3.6/dist-packages (from essentia) (3.13)\n",
            "Requirement already satisfied: numba>=0.32 in /usr/local/lib/python3.6/dist-packages (from resampy) (0.48.0)\n",
            "Requirement already satisfied: scipy>=0.13 in /usr/local/lib/python3.6/dist-packages (from resampy) (1.4.1)\n",
            "Requirement already satisfied: llvmlite<0.32.0,>=0.31.0dev0 in /usr/local/lib/python3.6/dist-packages (from numba>=0.32->resampy) (0.31.0)\n",
            "Requirement already satisfied: setuptools in /usr/local/lib/python3.6/dist-packages (from numba>=0.32->resampy) (47.1.1)\n",
            "Installing collected packages: essentia, wavio, textdistance\n",
            "Successfully installed essentia-2.1b6.dev234 textdistance-4.2.0 wavio-0.0.4\n"
          ],
          "name": "stdout"
        }
      ]
    },
    {
      "cell_type": "markdown",
      "metadata": {
        "id": "7OpszDzO7h8f",
        "colab_type": "text"
      },
      "source": [
        "# **Download MAST-rhythm dataset**"
      ]
    },
    {
      "cell_type": "code",
      "metadata": {
        "id": "JBMNgeMe4vi1",
        "colab_type": "code",
        "outputId": "9fa03615-1528-4101-bf41-2e2efa59ab84",
        "colab": {
          "base_uri": "https://localhost:8080/",
          "height": 0
        }
      },
      "source": [
        "\"\"\"\n",
        "@author: felipevieira\n",
        "https://github.com/MTG/mast-rhythm-analysis/blob/master/notebooks/DownloadDataFromMASTDataset.ipynb\n",
        "\"\"\"\n",
        "import urllib.request\n",
        "import os\n",
        "import tarfile\n",
        "\n",
        "FILES = {\n",
        "    'https://www.dropbox.com/s/54w5ohm9rh9q9cb/MAST%20subset%20%5BReferences%5D.tar.xz?dl=1' : 'MAST subset [References].tar.xz',\n",
        "    'https://www.dropbox.com/s/rinjhw4gb5mj286/MAST%20subset%20%5BPerformances%5D.tar.xz?dl=1' : 'MAST subset [Performances].tar.xz',\n",
        "    'https://www.dropbox.com/s/yzvicftsjt6rr8w/Performances%20Annotations.tar.xz?dl=1' : 'Performances Annotations.tar.gz',\n",
        "    'https://www.dropbox.com/s/zrtznm51ddtvwcr/rhy_m4a.tar.xz?dl=1': 'rhy_m4a.tar.xz'\n",
        "}\n",
        "\n",
        "DATA_FOLDER = \"data/\"\n",
        "\n",
        "if not os.path.exists(DATA_FOLDER):\n",
        "    os.makedirs(DATA_FOLDER)\n",
        "\n",
        "for file_url in FILES.keys():\n",
        "    file_name = FILES[file_url]\n",
        "    \n",
        "    print(\"Downloading file %s\" %  file_name)\n",
        "    \n",
        "    # downloading file\n",
        "    urllib.request.urlretrieve(file_url, os.path.join(DATA_FOLDER, file_name))\n",
        "    \n",
        "    # extracting file\n",
        "    tar = tarfile.open(os.path.join(DATA_FOLDER, file_name))\n",
        "    tar.extractall(DATA_FOLDER)\n",
        "    tar.close()\n",
        "    os.remove(os.path.join(DATA_FOLDER, file_name))\n",
        "  \n",
        "print()\n",
        "print(\"All folders and files were downloaded and stored in %s\" % DATA_FOLDER)\n",
        "    "
      ],
      "execution_count": 2,
      "outputs": [
        {
          "output_type": "stream",
          "text": [
            "Downloading file MAST subset [References].tar.xz\n",
            "Downloading file MAST subset [Performances].tar.xz\n",
            "Downloading file Performances Annotations.tar.gz\n",
            "Downloading file rhy_m4a.tar.xz\n",
            "\n",
            "All folders and files were downloaded and stored in data/\n"
          ],
          "name": "stdout"
        }
      ]
    },
    {
      "cell_type": "markdown",
      "metadata": {
        "id": "HfFlPNq8WSTb",
        "colab_type": "text"
      },
      "source": [
        "# **Feature extraction**"
      ]
    },
    {
      "cell_type": "markdown",
      "metadata": {
        "id": "sXbXFsEORh6B",
        "colab_type": "text"
      },
      "source": [
        "## Setting analysis parameters"
      ]
    },
    {
      "cell_type": "code",
      "metadata": {
        "id": "sO9krI2b31eN",
        "colab_type": "code",
        "colab": {}
      },
      "source": [
        "#Define data folder and default parameters\n",
        "DATA_FOLDER = \"data/\"\n",
        "\n",
        "# audio loading parameters\n",
        "SAMPLE_RATE = 44100\n",
        "WINDOW_SIZE = 1024\n",
        "HOP_SIZE = 512\n",
        "WINDOWING_METHOD = 'hann'\n",
        "\n",
        "# onset detection parameters\n",
        "ONSET_DETECTION_METHOD = 'hfc' #BB: bunu bir loop'ta belirlemiyor ve çeşitli ODFleri test etmiyor muyduk?\n",
        "\n",
        "# used for quantizing purposes\n",
        "ONSET_N_OF_BINS = 60\n"
      ],
      "execution_count": 0,
      "outputs": []
    },
    {
      "cell_type": "markdown",
      "metadata": {
        "id": "4W_PQma0Wbzi",
        "colab_type": "text"
      },
      "source": [
        "The features used in our task are the distances computed between performance and reference. Two strategies are tested\n",
        "\n",
        "*   Distances computed between onsets of reference and performance\n",
        "*   Distance computed between onset detection functions of reference and performance\n",
        "\n",
        "Below, we provide the codes for:\n",
        "\n",
        "*   Computing onset detection function\n",
        "*   Computing onsets\n",
        "*   Computing distances between onset detection functions\n",
        "*   Computing distances between onsets\n",
        "\n"
      ]
    },
    {
      "cell_type": "markdown",
      "metadata": {
        "id": "1iKvKp5jYbgQ",
        "colab_type": "text"
      },
      "source": [
        "## Onset detection function computation"
      ]
    },
    {
      "cell_type": "code",
      "metadata": {
        "id": "GWpUvqZmX6Ht",
        "colab_type": "code",
        "colab": {}
      },
      "source": [
        "def spectral_flux(x, WINDOW_SIZE, winType = \"hann\"):\n",
        "    '''\n",
        "    Calculates the spectral flux of a record\n",
        "\n",
        "    Parameters\n",
        "    ----------\n",
        "    x : numpy.array\n",
        "       The record signal\n",
        "       \n",
        "    WINDOW_SIZE : integer\n",
        "       Window size to calculate spectrum of the record\n",
        "       \n",
        "    winType : string\n",
        "        Windowing method, default = 'hann'\n",
        "        \n",
        "    Returns\n",
        "    -------\n",
        "    SF : numpy.array\n",
        "        Spectral flux of the record\n",
        "    '''\n",
        "    w = Windowing(type = winType)\n",
        "    spectrum = Spectrum(size = WINDOW_SIZE)\n",
        "\n",
        "    prevAmpSpec = np.zeros((1 + int(WINDOW_SIZE / 2),))\n",
        "    sf = []\n",
        "    for frame in FrameGenerator(x, frameSize = WINDOW_SIZE):\n",
        "        ampSpec = spectrum(w(frame))\n",
        "        specDiff = ampSpec - prevAmpSpec\n",
        "        h = (specDiff + np.abs(specDiff)) / 2\n",
        "        sf.append(np.sum(h))\n",
        "        prevAmpSpec = ampSpec\n",
        "    SF = np.array(sf[1:])#discard the first dummy value\n",
        "    return SF\n",
        "\n",
        "def highFreqCont(x, WINDOW_SIZE, winType = \"hann\"):\n",
        "    '''\n",
        "    Calculates the high frequency content of a record\n",
        "\n",
        "    Parameters\n",
        "    ----------\n",
        "    x : numpy.array\n",
        "       The record signal\n",
        "       \n",
        "    WINDOW_SIZE : integer\n",
        "       Window size to calculate spectrum of the record\n",
        "       \n",
        "    winType : string\n",
        "        Windowing method, default = 'hann'\n",
        "        \n",
        "    Returns\n",
        "    -------\n",
        "    hfc : numpy.array\n",
        "        High frequency content of the record\n",
        "    '''\n",
        "    w = Windowing(type = winType)\n",
        "    spectrum = Spectrum(size = WINDOW_SIZE)\n",
        "\n",
        "    hfc = []\n",
        "    for frame in FrameGenerator(x, frameSize = WINDOW_SIZE):\n",
        "        ampSpec = spectrum(w(frame))\n",
        "        hfc.append(np.dot(np.power(ampSpec,2),np.arange(ampSpec.size)))\n",
        "    hfc = np.array(hfc)\n",
        "    return hfc\n",
        "\n",
        "def energy_deviation(x, WINDOW_SIZE, winType = \"hann\"):\n",
        "    '''\n",
        "    Calculates the energy deviation of a record\n",
        "\n",
        "    Parameters\n",
        "    ----------\n",
        "    x : numpy.array\n",
        "       The record signal\n",
        "       \n",
        "    WINDOW_SIZE : integer\n",
        "       Window size to calculate spectrum of the record\n",
        "       \n",
        "    winType : string\n",
        "        Windowing method, default = 'hann'\n",
        "        \n",
        "    Returns\n",
        "    -------\n",
        "    NRG_dev : numpy.array\n",
        "        Energy deviation of the record\n",
        "    '''\n",
        "    w = Windowing(type = winType)\n",
        "    energy = Energy()\n",
        "    NRG = []\n",
        "    for frame in FrameGenerator(x, frameSize = WINDOW_SIZE):\n",
        "        NRG.append(np.log10(energy(w(frame))+np.finfo(float).eps))\n",
        "    NRG = np.array(NRG)\n",
        "    NRG_dev = NRG[1:] - NRG[:-1]\n",
        "\n",
        "    return NRG_dev\n",
        "\n"
      ],
      "execution_count": 0,
      "outputs": []
    },
    {
      "cell_type": "markdown",
      "metadata": {
        "id": "7z1axwfKZ3sw",
        "colab_type": "text"
      },
      "source": [
        "## Onset detection"
      ]
    },
    {
      "cell_type": "markdown",
      "metadata": {
        "id": "inD_LLYexuET",
        "colab_type": "text"
      },
      "source": [
        "The functions defined below find the onset locations and create 60 bins between the first and last onsets of each record to satisfy the time alignment."
      ]
    },
    {
      "cell_type": "code",
      "metadata": {
        "id": "P2ZSZuvlZ4BT",
        "colab_type": "code",
        "colab": {}
      },
      "source": [
        "def extract_onsets(base_dir, list_files, output_file):\n",
        "    '''\n",
        "    Extract the onset vectors of the records that are listed in list_files and write them the respective output_file\n",
        "\n",
        "    Parameters\n",
        "    ----------\n",
        "    base_dir: string\n",
        "       The folder path that contains the audio files \n",
        "    \n",
        "    list_files: string\n",
        "       The path of the text file that contains the audio file names \n",
        "\n",
        "    output_file: string\n",
        "        The path of the output file\n",
        "        \n",
        "    Returns\n",
        "    -------\n",
        "    Fills the output_file\n",
        "\n",
        "    @author: felipevieira\n",
        "    '''\n",
        "    with open(list_files, 'r') as listfiles:\n",
        "        with open(output_file, 'w') as output:\n",
        "            for audio_file in listfiles.readlines():\n",
        "                audio_file = audio_file.strip()\n",
        "                audio_file_full_path = os.path.join(base_dir, audio_file)\n",
        "\n",
        "                w = _load_file_as_monophonic_waveform(audio_file_full_path)\n",
        "                onsets = _extract_onset_vectors(w)\n",
        "                \n",
        "                output.write('%s\\n' % \" \".join(list(str(x) for x in onsets)))\n",
        "\n",
        "def _extract_onset_vectors(waveform):\n",
        "    '''\n",
        "    Extract the onset vectors from the waveform\n",
        "\n",
        "    Parameters\n",
        "    ----------\n",
        "    waveform: numpy.array\n",
        "       The waveform of the audio record\n",
        "\n",
        "    Returns\n",
        "    -------\n",
        "    onsets : numpy.array\n",
        "        Onsets vector for the waveform\n",
        "\n",
        "    Slightly modified version of: https://github.com/MTG/essentia/blob/master/src/examples/tutorial/example_onsetdetection.py\n",
        "    '''\n",
        "    od = OnsetDetection(method=ONSET_DETECTION_METHOD)\n",
        "    w = Windowing(type=WINDOWING_METHOD)\n",
        "    fft = FFT()\n",
        "    c2p = CartesianToPolar()\n",
        "    onsets = Onsets()\n",
        "\n",
        "    pool = Pool()\n",
        "    for frame in FrameGenerator(waveform, frameSize=WINDOW_SIZE):\n",
        "        mag, phase, = c2p(fft(w(frame)))\n",
        "        pool.add('features', od(mag, phase))\n",
        "\n",
        "    onsets = onsets(array([pool['features']]),[1])\n",
        "    return onsets\n"
      ],
      "execution_count": 0,
      "outputs": []
    },
    {
      "cell_type": "code",
      "metadata": {
        "id": "4BBRJ4ATf7Bo",
        "colab_type": "code",
        "colab": {}
      },
      "source": [
        "def rescale_and_make_bins(performances_file, references_file):\n",
        "    '''\n",
        "    Creates text file that contains binary arrays related with bins for each record whether a bin contains onset or not\n",
        "\n",
        "    Parameters\n",
        "    ----------\n",
        "\n",
        "    performances_file : string\n",
        "        Path of the text file contains performance onset vectors created by extract_onsets function\n",
        "\n",
        "    references_file : string  \n",
        "        Path of the text file contains reference onset vectors created by extract_onsets function\n",
        "\n",
        "    Returns\n",
        "    -------\n",
        "   \n",
        "    Create a text file that contains binary arrays whether a performance or reference record contains onset at that bin or not.\n",
        "\n",
        "    @author: felipevieira\n",
        "    '''\n",
        "    with open(performances_file, 'r') as perf_onsets_file:\n",
        "        with open(references_file, 'r') as ref_onsets_file:\n",
        "            perfs_onsets = perf_onsets_file.readlines()\n",
        "            refs_onsets = ref_onsets_file.readlines()\n",
        "            with open('%s [BINS]' % performances_file, 'w') as performances_file_bin,\\\n",
        "                 open('%s [BINS]' % references_file, 'w') as references_file_bin:\n",
        "                for i in range(len(perfs_onsets)):\n",
        "                    perf_onsets = [ float(x) for x in perfs_onsets[i].strip().split(\" \") ]\n",
        "\n",
        "                    perf_first_onset = perf_onsets[0]\n",
        "                    perf_last_onset = perf_onsets[-1]\n",
        "                    \n",
        "                    ref_onsets = [ float(x) for x in refs_onsets[i].strip().split(\" \") ]\n",
        "                    ref_first_onset = ref_onsets[0]\n",
        "                    ref_last_onset = ref_onsets[-1]                  \n",
        "\n",
        "                    # setting onset boundaries from first to last onsets\n",
        "                    perf_onsets = [ x - perf_onsets[0] for x in perf_onsets ]                   \n",
        "                    ref_onsets = [ x - ref_onsets[0] for x in ref_onsets ]\n",
        "                    \n",
        "\n",
        "                    # re-scaling performance to match reference tempo\n",
        "                    perf_inner_duration = perf_onsets[-1] - perf_onsets[0]\n",
        "                    ref_inner_duration = ref_onsets[-1] - ref_onsets[0]   \n",
        "                    \n",
        "           \n",
        "                    time_rescaling_factor = ((perf_inner_duration - ref_inner_duration) / perf_inner_duration)\n",
        "                    \n",
        "                    # onset window size is defined as a function of the audio duration\n",
        "                    window_size = ref_inner_duration / ONSET_N_OF_BINS\n",
        "                    \n",
        "\n",
        "                    rescaled_perf_onsets = [adjust_onset_by_rate(onset, time_rescaling_factor) for onset in perf_onsets]\n",
        "           \n",
        "                    performance_onset_bins = make_bins(rescaled_perf_onsets, window_size)\n",
        "                    performances_file_bin.write('%s\\n' % \" \".join([str(x) for x in performance_onset_bins]))\n",
        "                    references_onset_bins = make_bins(ref_onsets, window_size)\n",
        "                    references_file_bin.write('%s\\n' % \" \".join([str(x) for x in references_onset_bins]))\n",
        "\n",
        "\n",
        "def make_bins(onset_times, window_size):\n",
        "    '''\n",
        "    Generate an binary array whether a bin contains onset or not.\n",
        "\n",
        "    Parameters\n",
        "    ----------\n",
        "\n",
        "    onset_times : np.array\n",
        "        Onset times\n",
        "\n",
        "    window_size : integer \n",
        "        Window size\n",
        "\n",
        "    Returns\n",
        "    -------\n",
        "   \n",
        "    bins : np.array\n",
        "    \n",
        "      Array with binary numbers each related whether a window has onset or not.\n",
        " \n",
        "    @author: felipevieira\n",
        "    '''\n",
        "    bins = []\n",
        "        \n",
        "    for i in range(int(ONSET_N_OF_BINS)):\n",
        "        for onset_time in onset_times:\n",
        "            if i == ONSET_N_OF_BINS-1:\n",
        "                if window_size*(i - 0.5) <= onset_time <= window_size*(i + float('inf')):\n",
        "                    bins.append(1)\n",
        "                    break\n",
        "                else:\n",
        "                    continue\n",
        "            else:                \n",
        "                if window_size*(i - 0.5) <= onset_time <= window_size*(i + 0.5):\n",
        "                    bins.append(1)\n",
        "                    break\n",
        "        else:\n",
        "            bins.append(0)\n",
        "\n",
        "    return bins\n",
        "\n",
        "def adjust_onset_by_rate(onset, time_rescaling_factor):\n",
        "    '''@author: felipevieira'''\n",
        "    return onset - (onset * time_rescaling_factor)\n",
        "\n"
      ],
      "execution_count": 0,
      "outputs": []
    },
    {
      "cell_type": "markdown",
      "metadata": {
        "id": "--r8L-dMf4-Z",
        "colab_type": "text"
      },
      "source": [
        "## Computing distances between onset detection functions"
      ]
    },
    {
      "cell_type": "markdown",
      "metadata": {
        "id": "z5CwuP8ZsuvX",
        "colab_type": "text"
      },
      "source": [
        "####Compute distances between binary onset vectors"
      ]
    },
    {
      "cell_type": "code",
      "metadata": {
        "id": "g-5qIf37aUAB",
        "colab_type": "code",
        "outputId": "b51d3d5d-13f1-4e5d-9c9a-51764810d4e2",
        "colab": {
          "base_uri": "https://localhost:8080/",
          "height": 71
        }
      },
      "source": [
        "from sklearn.datasets.base import *\n",
        "from textdistance import levenshtein, damerau_levenshtein, jaro, jaro_winkler\n",
        "from scipy.spatial.distance import yule, matching, hamming\n",
        "\n",
        "def mean_squared_error_for_rhythm(A_bin, E_bin, Km = 25 , Ks = 0.55):\n",
        "    '''\n",
        "    Implementation of a MSE function designed\n",
        "    for rhythmic assessment purposes. The original\n",
        "    algorithm is proposed by Percival in\n",
        "    http://percival-music.ca/research/masters-percival.pdf\n",
        "    \n",
        "    @author: felipevieira\n",
        "    '''\n",
        "    def closest_value(alist, value):\n",
        "        min_diff = float('inf')\n",
        "        c_value = None\n",
        "        \n",
        "        for element in alist:\n",
        "            if abs(value - element) < min_diff:\n",
        "                min_diff = abs(value - element)\n",
        "                c_value = element\n",
        "        \n",
        "        return c_value\n",
        "                \n",
        "        \n",
        "    A = [i for i in range(len(A_bin)) if A_bin[i]]\n",
        "    E = [i for i in range(len(E_bin)) if E_bin[i]]\n",
        "    \n",
        "    mse = 0\n",
        "    \n",
        "    for i in range(len(E)):\n",
        "        c_val = closest_value(A, E[i])\n",
        "        error = abs(c_val - E[i])\n",
        "        error = np.power(error,2)/len(E)\n",
        "        error = min(error, Km)\n",
        "        mse+=error\n",
        "    \n",
        "    for i in range(len(A)):\n",
        "        c_val = closest_value(E, A[i])\n",
        "        error = abs(c_val - A[i])\n",
        "        error = np.power(error,2)/len(A)\n",
        "        error = min(error, Km)\n",
        "        mse+=error\n",
        "    \n",
        "    return 100 - Ks * mse\n",
        "\n",
        "def beat_difference(v1, v2):\n",
        "    '''\n",
        "    Calculates the beat_difference between two vectors\n",
        "\n",
        "    Parameters\n",
        "    ----------\n",
        "    v1: numpy.array\n",
        "       First vector (eg. reference onsets)\n",
        "    v2: numpy.array\n",
        "      Second vector (eg. performance onsets)\n",
        "        \n",
        "    Returns\n",
        "    -------\n",
        "    onsets : numpy.array\n",
        "        Onsets vector for the waveform\n",
        "\n",
        "    @author: felipevieira\n",
        "    '''\n",
        "    return abs(v1.count(1) - v2.count(1))\n",
        "\n",
        "DISTANCE_FUNCTIONS = [beat_difference, mean_squared_error_for_rhythm, #rhythm-based features\n",
        "                          levenshtein, damerau_levenshtein, jaro, jaro_winkler, # text-based features\n",
        "                          hamming, yule] # vector-based features"
      ],
      "execution_count": 7,
      "outputs": [
        {
          "output_type": "stream",
          "text": [
            "/usr/local/lib/python3.6/dist-packages/sklearn/utils/deprecation.py:144: FutureWarning: The sklearn.datasets.base module is  deprecated in version 0.22 and will be removed in version 0.24. The corresponding classes / functions should instead be imported from sklearn.datasets. Anything that cannot be imported from sklearn.datasets is now part of the private API.\n",
            "  warnings.warn(message, FutureWarning)\n"
          ],
          "name": "stderr"
        }
      ]
    },
    {
      "cell_type": "markdown",
      "metadata": {
        "id": "xiiWLmPitFVV",
        "colab_type": "text"
      },
      "source": [
        "####Compute distances between onset detection functions"
      ]
    },
    {
      "cell_type": "code",
      "metadata": {
        "id": "sn6gYq08gO3l",
        "colab_type": "code",
        "colab": {}
      },
      "source": [
        "#Distance functions applied on onset detection functions:\n",
        "# L1-norm, L2-norm, cosine-distance, earth-mover distance, max-distance\n",
        "def calculate_distance_features(x_references, x_performances):\n",
        "    '''\n",
        "    Calculate the distance between reference and performance data with different distance metrics\n",
        "\n",
        "    Parameters\n",
        "    ----------\n",
        "    x_reference : numpy.array \n",
        "        Reference data that contains spectral flux, high frequency content and energy deviation.\n",
        "        \n",
        "    x_performance : numpy.array \n",
        "        Performance data that contains spectral flux, high frequency content and energy deviation.\n",
        "\n",
        "\n",
        "    Returns\n",
        "    -------\n",
        "    distance_features : numpy.array\n",
        "        distance between reference and performance data with different distance metrics\n",
        "\n",
        "    '''\n",
        "    if(x_performances.shape[0] != x_references.shape[0]):\n",
        "        print(\"x_performance and x_reference must be same size\")\n",
        "    else:\n",
        "        dist = np.empty((x_performances.shape[0],5))\n",
        "        \n",
        "        for i in range(x_performances.shape[0]):\n",
        "            dist[i,0] = np.max(x_references[i,:]-x_performances[i,:]) #maximum difference\n",
        "            dist[i,1] = np.linalg.norm((x_references[i,:]-x_performances[i,:]), ord=1)  #L1 norm\n",
        "            dist[i,2] = np.linalg.norm((x_references[i,:]-x_performances[i,:])) #L2 norm\n",
        "            dist[i,3] = spatial.distance.cosine(x_references[i,:],x_performances[i,:]) #cosine similarity\n",
        "            dist[i,4] = stats.wasserstein_distance(x_references[i,:],x_performances[i,:])/len(x_performances) #earth mover distance\n",
        "        distance_features = dist\n",
        "    return distance_features"
      ],
      "execution_count": 0,
      "outputs": []
    },
    {
      "cell_type": "markdown",
      "metadata": {
        "id": "GBBy7eVmbYUR",
        "colab_type": "text"
      },
      "source": [
        "# **Data preparation: batch processing of audio files**"
      ]
    },
    {
      "cell_type": "markdown",
      "metadata": {
        "id": "_iqF0OuEEgyl",
        "colab_type": "text"
      },
      "source": [
        "#### Data Preparation"
      ]
    },
    {
      "cell_type": "code",
      "metadata": {
        "id": "GLnp7EUZeX3v",
        "colab_type": "code",
        "cellView": "both",
        "colab": {}
      },
      "source": [
        "def _load_file_as_monophonic_waveform(file_path):\n",
        "    '''\n",
        "    Load the audio file as monophonic waveform from the file path\n",
        "\n",
        "    Parameters\n",
        "    ----------\n",
        "    file_path : string\n",
        "      The path of the audio file\n",
        "\n",
        "    Returns\n",
        "    -------\n",
        "    normalized_x : numpy.array\n",
        "        normalized waveform of the audio record\n",
        "    \n",
        "    @author: felipevieira\n",
        "\n",
        "    '''\n",
        "    fs = SAMPLE_RATE\n",
        "\n",
        "    x = MonoLoader(filename = file_path, sampleRate = fs)()\n",
        "    normalized_x = x / np.max(np.abs(x))\n",
        "    return normalized_x\n",
        "\n",
        "def get_audio_index(file, performance_type):\n",
        "    '''\n",
        "    Gets audio index\n",
        "\n",
        "    Parameters\n",
        "    ----------\n",
        "    file : string\n",
        "       The name of the audio file \n",
        "    \n",
        "    performance_type : string\n",
        "       Describes the performance type \"performance\" (student performance) or \"reference\" (jury member performance)\n",
        "\n",
        "\n",
        "    Returns\n",
        "    -------\n",
        "    audio_idx : integer\n",
        "        Index of the audio file\n",
        "    \n",
        "    @author: felipevieira\n",
        "    '''\n",
        "    file_path = os.path.join(DATA_FOLDER, 'Only %ss' % performance_type.capitalize(), 'list%ss' % performance_type)\n",
        "    with open(file_path, 'r') as list_files:\n",
        "        files = [x.strip() for x in list_files.readlines()]\n",
        "        audio_idx = files.index(file)\n",
        "        return audio_idx\n",
        "    \n",
        "def get_info(index, performance_type, info_file_format):   \n",
        "    '''\n",
        "    Gets audio index\n",
        "\n",
        "    Parameters\n",
        "    ----------\n",
        "    index : integer\n",
        "       Index of the audio file\n",
        "    \n",
        "    performance_type : string\n",
        "       Describes the performance type \"performance\" (student performance) or \"reference\" (jury member performance)\n",
        "\n",
        "    info_file_format : string\n",
        "        Name of the file that contains features\n",
        "        \n",
        "    # Returns\n",
        "    # -------\n",
        "    # audio_idx : integer\n",
        "    #     Index of the audio file\n",
        "\n",
        "    @author: felipevieira\n",
        "    '''\n",
        "    \n",
        "    file_path = os.path.join(DATA_FOLDER, 'Only %ss' % performance_type.capitalize(), info_file_format.format(performance_type.capitalize()))\n",
        "    \n",
        "    with open(file_path, 'r') as infos:\n",
        "        info = infos.readlines()[index]\n",
        "        return [int(x) for x in info.split()]\n",
        "\n",
        "def get_class_for_performance(audio_name):\n",
        "    '''\n",
        "    Gets audio index\n",
        "\n",
        "    Parameters\n",
        "    ----------\n",
        "    audio_name : string\n",
        "       The name of the audio file \n",
        "    \n",
        "    Returns\n",
        "    -------\n",
        "    annotations : numpy.array\n",
        "        The matrix that contains grades of each jury member for each performances. \n",
        "\n",
        "    @author: felipevieira\n",
        "    '''\n",
        "    annotations = []\n",
        "    for (dirpath, dirnames, filenames) in os.walk(os.path.join(DATA_FOLDER, \"Performances Annotations\")):\n",
        "        for file_name in filenames:\n",
        "            if file_name == 'listfiles.txt':\n",
        "                pass\n",
        "            else:\n",
        "                with open(os.path.join(dirpath, file_name), 'r') as annotator_file:\n",
        "                    for annotation in annotator_file.readlines():\n",
        "                        annotation = annotation.strip()\n",
        "                        if audio_name in annotation:\n",
        "                            grade = int(annotation.split()[1].split('Grade:')[1])\n",
        "                            annotations.append(grade)\n",
        "                \n",
        "    return annotations\n"
      ],
      "execution_count": 0,
      "outputs": []
    },
    {
      "cell_type": "code",
      "metadata": {
        "id": "MbvjgfoPWSnp",
        "colab_type": "code",
        "colab": {}
      },
      "source": [
        "def load_onsetDistances_labels():\n",
        "    '''\n",
        "    Function renamed from \"load_rhythmic_performances\" to \n",
        "    Loads rhytmic performances and extract onset based distance features and target labels\n",
        "\n",
        "    Returns\n",
        "    -------\n",
        "    features : numpy.array\n",
        "        Onset based distance feature matrix that contains each feature in its columns.\n",
        "        \n",
        "    annotations : numpy.array\n",
        "        The matrix that contains grades of each jury member for each performances. \n",
        "\n",
        "    @author: felipevieira\n",
        "    '''\n",
        "    features = []\n",
        "    annotations = np.zeros((80,7))\n",
        "    i = 0\n",
        "    with open('data/Performances Annotations/listfiles.txt', 'r') as list_of_files,\\\n",
        "         open('data/Only Performances/listperformances', 'r') as performances_file,\\\n",
        "         open('data/Only Performances/MAST Onsets [Performances] [BINS]', 'r') as performances_onsets,\\\n",
        "         open('data/Only References/listreferences', 'r') as references_file,\\\n",
        "         open('data/Only References/MAST Onsets [References] [BINS]', 'r') as references_onsets:        \n",
        "        \n",
        "        for performance in list_of_files.readlines():\n",
        "            performance = performance.strip()\n",
        "            index = get_audio_index(performance,'performance')\n",
        "            \n",
        "            performance_bins = get_info(index, 'performance', 'MAST Onsets [{}s] [BINS]')\n",
        "            reference_bins = get_info(index, 'reference', 'MAST Onsets [{}s] [BINS]')   \n",
        "            \n",
        "            # model features\n",
        "            features.append([distance_function(performance_bins, reference_bins) for distance_function in DISTANCE_FUNCTIONS])         \n",
        "            \n",
        "            # model targets\n",
        "            annotations[i,:] = get_class_for_performance(performance)\n",
        "            i = i+1\n",
        "    return np.array(features), annotations\n",
        "\n",
        "\n",
        "\n",
        "def calculate_average_grade(annotations):\n",
        "    '''\n",
        "    Calculate average grades by dropping minimum and maximum grades for each performance\n",
        "\n",
        "    Parameters\n",
        "    ----------\n",
        "\n",
        "    annotations : numpy.array\n",
        "        The matrix that contains grades of each jury member for each performances. \n",
        "\n",
        "    Returns\n",
        "    -------\n",
        "   \n",
        "    average_grade : numpy.array\n",
        "        The average grades of each performance\n",
        "\n",
        "    @author: felipevieira\n",
        "    '''\n",
        "  # the average grade across all annotations is calculated according to the following:\n",
        "  # \"leave the max and min value out and compute an average of the rest\"\n",
        "    average_grade = []\n",
        "    for i in range(0,data.shape[0]):\n",
        "        grades = list(annotations[i,:])\n",
        "        grades.remove(max(grades))\n",
        "        grades.remove(min(grades))\n",
        "        average_grade.append(sum(grades)/len(grades))\n",
        "    return np.array(average_grade)"
      ],
      "execution_count": 0,
      "outputs": []
    },
    {
      "cell_type": "markdown",
      "metadata": {
        "id": "k2ymmN5XETln",
        "colab_type": "text"
      },
      "source": [
        "#### Extracting Onsets"
      ]
    },
    {
      "cell_type": "code",
      "metadata": {
        "id": "SUOCygsii-hs",
        "colab_type": "code",
        "colab": {}
      },
      "source": [
        "# extracting onset times for performances\n",
        "base_dir_performances = os.path.join(DATA_FOLDER, 'Only Performances/') \n",
        "list_files_performances = os.path.join(DATA_FOLDER, 'Only Performances/listperformances')\n",
        "output_file_performances = os.path.join(DATA_FOLDER, 'Only Performances/MAST Onsets [Performances]')\n",
        "\n",
        "extract_onsets(base_dir_performances, list_files_performances, output_file_performances)\n",
        "\n",
        "base_dir_references = os.path.join(DATA_FOLDER, 'Only References/')\n",
        "list_files_references = os.path.join(DATA_FOLDER, 'Only References/listreferences')\n",
        "output_file_references = os.path.join(DATA_FOLDER, 'Only References/MAST Onsets [References]')\n",
        "\n",
        "extract_onsets(base_dir_references, list_files_references, output_file_references)\n",
        "\n",
        "\n",
        "# Rescale and make bins\n",
        "rescale_and_make_bins(os.path.join(DATA_FOLDER, 'Only Performances/MAST Onsets [Performances]'),\n",
        "                         os.path.join(DATA_FOLDER, 'Only References/MAST Onsets [References]'))\n"
      ],
      "execution_count": 0,
      "outputs": []
    },
    {
      "cell_type": "markdown",
      "metadata": {
        "id": "SHK9zrEbEA53",
        "colab_type": "text"
      },
      "source": [
        "##### Illustration of Onset Locations"
      ]
    },
    {
      "cell_type": "code",
      "metadata": {
        "id": "0uuXjAgCfHsL",
        "colab_type": "code",
        "outputId": "397b9275-7141-4e8f-feb1-3af7d164a07f",
        "colab": {
          "base_uri": "https://localhost:8080/",
          "height": 239
        }
      },
      "source": [
        "reference_file = '/content/data/Only References/58_rhy1_ref104359.wav' \n",
        "performance_file = '/content/data/Only Performances/51_rhy2_per133859_pass.wav'\n",
        "#Plot the exampels\n",
        "\n",
        "x_ref = _load_file_as_monophonic_waveform(reference_file)\n",
        "t = np.arange(len(x_ref))/float(SAMPLE_RATE) # for plotting purposes\n",
        "onsets_hfc_ref = _extract_onset_vectors(x_ref)\n",
        "\n",
        "plt.figure(figsize=(15,1.5))\n",
        "plt.plot(t ,x_ref, alpha=0.6)\n",
        "plt.title(\"Audio Record and Detected Onsets (using HFC) on 58_rhy1_ref104359.wav\");\n",
        "plt.axis('off')\n",
        "plt.vlines(onsets_hfc_ref, -1, 1, 'r')\n",
        "\n",
        "plt.show()\n",
        "\n",
        "\n",
        "x_per = _load_file_as_monophonic_waveform(performance_file)\n",
        "t = np.arange(len(x_per))/float(SAMPLE_RATE) # for plotting purposes\n",
        "onsets_hfc_per = _extract_onset_vectors(x_per)\n",
        "\n",
        "plt.figure(figsize=(15,1.5))\n",
        "plt.plot(t ,x_per, alpha=0.6)\n",
        "plt.title(\"Audio Record and Detected Onsets (using HFC) on 51_rhy2_per133859_pass.wav\");\n",
        "plt.axis('off')\n",
        "plt.vlines(onsets_hfc_per, -1, 1, 'r')\n",
        "\n",
        "plt.show()\n",
        "\n"
      ],
      "execution_count": 12,
      "outputs": [
        {
          "output_type": "display_data",
          "data": {
            "image/png": "[encoded data removed]",
            "text/plain": [
              "<Figure size 1080x108 with 1 Axes>"
            ]
          },
          "metadata": {
            "tags": [],
            "needs_background": "light"
          }
        },
        {
          "output_type": "display_data",
          "data": {
            "image/png": "[encoded data removed]",
            "text/plain": [
              "<Figure size 1080x108 with 1 Axes>"
            ]
          },
          "metadata": {
            "tags": [],
            "needs_background": "light"
          }
        }
      ]
    },
    {
      "cell_type": "markdown",
      "metadata": {
        "id": "hrAOLRU-uMTp",
        "colab_type": "text"
      },
      "source": [
        "####Extracting onset detection functions"
      ]
    },
    {
      "cell_type": "code",
      "metadata": {
        "id": "OHYkjRxYxO6w",
        "colab_type": "code",
        "colab": {}
      },
      "source": [
        "def get_max_length(base_dir, list_files):\n",
        "    '''\n",
        "    Determines the maximum length in the all records\n",
        "\n",
        "    Parameters\n",
        "    ----------\n",
        "    base_dir: string\n",
        "       The folder path that contains the audio files \n",
        "    \n",
        "    list_files: string\n",
        "       The path of the text file that contains the audio file names \n",
        "        \n",
        "    Returns\n",
        "    -------\n",
        "    max_sample_size : integer\n",
        "        maximum sample size in the all records\n",
        "    '''\n",
        "    performance_sample_size = []\n",
        "    with open(list_files, 'r') as listfiles:\n",
        "        for audio_file in listfiles.readlines():\n",
        "            audio_file = audio_file.strip()\n",
        "            audio_file_full_path = '%s%s' % (base_dir, audio_file)\n",
        "            w = _load_file_as_monophonic_waveform(audio_file_full_path)\n",
        "            performance_sample_size.append(w.size)\n",
        "            max_sample_size = np.max(performance_sample_size)\n",
        "    return  max_sample_size\n",
        "\n",
        "\n",
        "def resample_performances(base_dir, list_files, max_sample_size):\n",
        "    '''\n",
        "    Resample all performances for helping alignment \n",
        "\n",
        "    Parameters\n",
        "    ----------\n",
        "    base_dir: string\n",
        "       The folder path that contains the audio files \n",
        "    \n",
        "    list_files: string\n",
        "       The path of the text file that contains the audio file names\n",
        "       \n",
        "    max_sample_size : integer\n",
        "        maximum sample size in the all records\n",
        "        \n",
        "    Returns\n",
        "    -------\n",
        "    writes the resampled records in base_dir folder\n",
        "    '''\n",
        "    with open(list_files, 'r') as listfiles:\n",
        "        for audio_file in listfiles.readlines():\n",
        "            audio_file = audio_file.strip()\n",
        "            audio_file_full_path = '%s%s' % (base_dir, audio_file)\n",
        "            w = _load_file_as_monophonic_waveform(audio_file_full_path)\n",
        "            w_resample=resampy.resample(w, SAMPLE_RATE,max_sample_size/(len(w)/SAMPLE_RATE), axis=-1)\n",
        "            output_file_name = '%s%s' %(base_dir, audio_file.replace(\".wav\", \"_resample.wav\"))\n",
        "            with open(output_file_name, 'w') as output:\n",
        "                wavio.write(output_file_name, w_resample,SAMPLE_RATE, sampwidth=2)\n"
      ],
      "execution_count": 0,
      "outputs": []
    },
    {
      "cell_type": "code",
      "metadata": {
        "id": "iWcma7DO09gK",
        "colab_type": "code",
        "colab": {}
      },
      "source": [
        "def extract_ODFs(base_dir, list_files, WINDOW_SIZE):\n",
        "    \n",
        "    '''\n",
        "    Computation of onset detection functions \n",
        "    \n",
        "    base_dir: string\n",
        "       The folder path that contains the audio files \n",
        "    \n",
        "    list_files: string\n",
        "       The path of the text file that contains the audio file \n",
        "    \n",
        "    WINDOW_SIZE : integer\n",
        "       Window size to calculate spectrum of the record\n",
        "      \n",
        "    \n",
        "    Returns\n",
        "    -------\n",
        "    SF_vector : numpy.array\n",
        "        Contains spectral flux vectors for all records\n",
        "        \n",
        "    hfc_vector : numpy.array\n",
        "        Contains high frequency content for all records\n",
        "        \n",
        "    NRG_dev_vector : numpy.array\n",
        "        Contains energy deviation vector for all records       \n",
        "    '''      \n",
        "       \n",
        "    SF_vector = []\n",
        "    hfc_vector = []\n",
        "    NRG_dev_vector = []\n",
        "    with open(list_files, 'r') as listfiles:            \n",
        "        for audio_file in listfiles.readlines():\n",
        "            audio_file = audio_file.strip()\n",
        "            audio_file_full_path = '%s%s' % (base_dir, audio_file.replace(\".wav\", \"_resample.wav\"))\n",
        "            print(audio_file_full_path )\n",
        "            w = _load_file_as_monophonic_waveform(audio_file_full_path)\n",
        "            SF = spectral_flux(w, WINDOW_SIZE)\n",
        "            SF_vector.append(SF)\n",
        "            hfc = highFreqCont(w, WINDOW_SIZE)\n",
        "            hfc_vector.append(hfc)\n",
        "            NRG_dev = energy_deviation(w, WINDOW_SIZE)\n",
        "            NRG_dev_vector.append(NRG_dev)\n",
        "        \n",
        "    return np.array(SF_vector),np.array(hfc_vector),np.array(NRG_dev_vector)"
      ],
      "execution_count": 0,
      "outputs": []
    },
    {
      "cell_type": "markdown",
      "metadata": {
        "id": "mXfkDcUr9Iru",
        "colab_type": "text"
      },
      "source": [
        "####Preprocess onset detection functions"
      ]
    },
    {
      "cell_type": "code",
      "metadata": {
        "id": "j-fbxy5Z2Gnb",
        "colab_type": "code",
        "colab": {}
      },
      "source": [
        "def filter(x, filter_len = 5):\n",
        "    '''\n",
        "    Simple moving average filter for smoothing \n",
        "\n",
        "    Parameters\n",
        "    ----------\n",
        "    x : numpy.array, \n",
        "        input signal.\n",
        "    filter_len : int,  \n",
        "        moving average filter length. The default is 5.\n",
        "\n",
        "    Returns\n",
        "    -------\n",
        "    numpy.array, filtered signal\n",
        "\n",
        "    '''\n",
        "    half_len = (filter_len - 1)//2\n",
        "    filter_values = np.ones((filter_len, )) / filter_len\n",
        "    return np.convolve(x, filter_values)[half_len : -half_len]\n",
        "\n",
        "def peakLocationDetection(sig, windowSize = 5):\n",
        "    '''Simple peak detection function\n",
        "\n",
        "    Parameters\n",
        "    ----------\n",
        "    sig : numpy.array\n",
        "        input signal.\n",
        "    windowSize : int, \n",
        "        size of the window to detect the maxima and match with the center. \n",
        "        The default is 5.\n",
        "\n",
        "    Returns\n",
        "    -------\n",
        "    peakIndexes : list\n",
        "        indexes of the peaks in the signal.\n",
        "\n",
        "    '''\n",
        "    midPointIndex = int(windowSize / 2)\n",
        "    threshold = np.max(sig) * 0.05\n",
        "    peakIndexes = []\n",
        "    for index in range(len(sig) - windowSize):\n",
        "        frame = sig[index : index + windowSize]\n",
        "        if (np.argmax(frame) == midPointIndex) and np.max(frame) > threshold:\n",
        "            peakIndexes.append(index + midPointIndex)\n",
        "    return peakIndexes\n",
        "\n",
        "def preprocessODF(ODF, start_ind, stop_ind, filter_len = 5, resamp_size = 128):\n",
        "    '''\n",
        "    Preprocessing an onset detection function\n",
        "\n",
        "    Parameters\n",
        "    ----------\n",
        "    ODF : numpy.array\n",
        "        Onset detection function.\n",
        "    start_ind: int\n",
        "        Start index for the onset detection function, used for cropping\n",
        "    stop_ind: int\n",
        "        Start index for the onset detection function, used for cropping\n",
        "    filter_len : int,  \n",
        "        moving average filter length. The default is 5.\n",
        "    resamp_size : int, \n",
        "        Target length after the resampling operation. The default is 128.\n",
        "\n",
        "    Returns\n",
        "    -------\n",
        "    numpy.array\n",
        "        Crooped, resampled, rescaled onset detection function.\n",
        "    '''\n",
        "    ODF_f = filter(ODF, filter_len = filter_len)#smoothing the ODF\n",
        "    ODF_f_crop = ODF_f[start_ind : stop_ind]#cropping from first peak to last\n",
        "    \n",
        "    #Resampling: resampling may return one sample less in some cases, \n",
        "    # for this reason, as a quick hack, we ask for one more sample \n",
        "    # and finally get the first resamp_size samples\n",
        "    ODF_f_crop_resamp = resampy.resample(ODF_f_crop, len(ODF_f_crop), resamp_size + 1, axis = -1)\n",
        "    ODF_f_crop_resamp = ODF_f_crop_resamp[:resamp_size]\n",
        "    \n",
        "    #logarithmic compression (a small value is added to avoid log of zero)\n",
        "    ODF_f_crop_resamp = ODF_f_crop_resamp - np.min(ODF_f_crop_resamp)#shift signal to positive values\n",
        "    ODF_f_crop_resamp = np.log2(ODF_f_crop_resamp + np.mean(ODF_f_crop_resamp) * 0.01)\n",
        "    #half wave rectification\n",
        "    ODF_f_crop_resamp = ODF_f_crop_resamp - np.mean(ODF_f_crop_resamp)\n",
        "    ODF_f_crop_resamp = ODF_f_crop_resamp + np.abs(ODF_f_crop_resamp)\n",
        "\n",
        "    return  ODF_f_crop_resamp / np.max(ODF_f_crop_resamp)#amplitude normalisation\n",
        "\n",
        "def boundary_detection(ODF, filter_len = 5):\n",
        "    '''\n",
        "    Detecting boundary indexes of ODF via detecting peak indexes\n",
        "\n",
        "    Parameters\n",
        "    ----------\n",
        "    ODF : numpy.array\n",
        "        Onset detection function.\n",
        "    filter_len : int, \n",
        "        Moving avergae filter length. The default is 5.\n",
        "\n",
        "    Returns\n",
        "    -------\n",
        "    int\n",
        "        start index.\n",
        "    int\n",
        "        stop index.\n",
        "\n",
        "    '''\n",
        "    ODF_f = filter(ODF, filter_len)#smoothing the ODF\n",
        "    peaks = peakLocationDetection(ODF_f)#detecting peaks from smoothed ODF\n",
        "    return peaks[0], peaks[-1]\n",
        "\n",
        "\n",
        "def preprocessX(X, resamp_size = 128, filter_len = 5, sizes = [516, 517, 516]):\n",
        "    '''\n",
        "    Preprocessing all samples of the dataset. Involves the following operations:\n",
        "      - Smoothing ODF with moving average filter\n",
        "      - Detection of boundary peaks and cropping\n",
        "      - Resampling to a fixed size\n",
        "      - Logarithmic compression\n",
        "      - Amplitude normalisation\n",
        "\n",
        "    Parameters\n",
        "    ----------\n",
        "    X : numpy.array \n",
        "        Dataset samples of size (n_samples, n_rows, n_columns).\n",
        "    resamp_size : int, \n",
        "        Target length after the resampling operation. The default is 128.\n",
        "    filter_len : int,  moving average filter length. The default is 5.\n",
        "\n",
        "    Returns\n",
        "    -------\n",
        "    X_hfc_prep : numpy.array\n",
        "        HFC components of the data samples (n_samples, n_rows, n_columns = resamp_size).\n",
        "\n",
        "    '''\n",
        "    X_sf = X[:, :, : sizes[0]] #spectral flux\n",
        "    X_hfc = X[:, :, sizes[0] : sizes[0] + sizes[1]]#HFC available from 516 to 516+517\n",
        "    X_dnrg = X[:, :, sizes[0] + sizes[1] : ]#derivative of energy\n",
        "    X_prep = np.zeros((X.shape[0], 6, resamp_size))#initializing preprocessed data \n",
        "    \n",
        "    for i in range(len(X)):\n",
        "        #Detect boundaries of ODFs using HFC. two sets of boundaries computed: one for reference, one for performance\n",
        "        start_ind_0, stop_ind_0 = boundary_detection(X_hfc[i, 0,:], filter_len = filter_len)\n",
        "        start_ind_1, stop_ind_1 = boundary_detection(X_hfc[i, 1,:], filter_len = filter_len)\n",
        "        #Preprocess each feature \n",
        "        X_prep[i] = np.vstack((preprocessODF(X_sf[i, 0, :],start_ind_0, stop_ind_0, filter_len = filter_len, resamp_size = resamp_size),\n",
        "                               preprocessODF(X_hfc[i, 0, :],start_ind_0, stop_ind_0, filter_len = filter_len, resamp_size = resamp_size),\n",
        "                               preprocessODF(X_dnrg[i, 0, :],start_ind_0, stop_ind_0, filter_len = filter_len, resamp_size = resamp_size),\n",
        "                               preprocessODF(X_dnrg[i, 1, :],start_ind_1, stop_ind_1, filter_len = filter_len, resamp_size = resamp_size),\n",
        "                               preprocessODF(X_hfc[i, 1, :],start_ind_1, stop_ind_1, filter_len = filter_len, resamp_size = resamp_size),\n",
        "                               preprocessODF(X_sf[i, 1, :],start_ind_1, stop_ind_1, filter_len = filter_len, resamp_size = resamp_size)))\n",
        "        \n",
        "    return X_prep\n",
        "\n"
      ],
      "execution_count": 0,
      "outputs": []
    },
    {
      "cell_type": "markdown",
      "metadata": {
        "id": "PhceO5759TDB",
        "colab_type": "text"
      },
      "source": [
        "#### Rescale all files and call extraction method for onset detection functions"
      ]
    },
    {
      "cell_type": "code",
      "metadata": {
        "id": "BX5yzLZ5I3Xb",
        "colab_type": "code",
        "outputId": "c28e898a-c2c5-4f63-a3bf-7284706c0653",
        "colab": {
          "base_uri": "https://localhost:8080/",
          "height": 1000
        }
      },
      "source": [
        "# rescaling performances to obtain same sample size and extract the spectral flux, energy deviation and high frequency content features of each performance\n",
        "\n",
        "resample_performances(base_dir_performances, list_files_performances, get_max_length(base_dir_performances, list_files_performances))\n",
        "\n",
        "SF_vector_performances,hfc_vector_performances,NRG_dev_vector_performances = extract_ODFs(base_dir_performances, list_files_performances,WINDOW_SIZE)\n",
        "\n",
        "resample_performances(base_dir_references, list_files_references, get_max_length(base_dir_references, list_files_references))\n",
        "  \n",
        "SF_vector_references,hfc_vector_references,NRG_dev_vector_references = extract_ODFs(base_dir_references, list_files_references,WINDOW_SIZE)"
      ],
      "execution_count": 16,
      "outputs": [
        {
          "output_type": "stream",
          "text": [
            "data/Only Performances/64_rhy1_per1779742_pass_resample.wav\n",
            "data/Only Performances/58_rhy2_per104359_pass_resample.wav\n",
            "data/Only Performances/61_rhy2_per1718752_pass_resample.wav\n",
            "data/Only Performances/59_rhy1_per194959_pass_resample.wav\n",
            "data/Only Performances/55_rhy1_per121260_pass_resample.wav\n",
            "data/Only Performances/63_rhy2_per1176742_pass_resample.wav\n",
            "data/Only Performances/52_rhy1_per181659_pass_resample.wav\n",
            "data/Only Performances/58_rhy1_per180160_pass_resample.wav\n",
            "data/Only Performances/55_rhy2_per197885_pass_resample.wav\n",
            "data/Only Performances/55_rhy2_per138459_pass_resample.wav\n",
            "data/Only Performances/53_rhy2_per147558_pass_resample.wav\n",
            "data/Only Performances/59_rhy1_per131160_pass_resample.wav\n",
            "data/Only Performances/52_rhy2_per121160_pass_resample.wav\n",
            "data/Only Performances/59_rhy1_per124559_pass_resample.wav\n",
            "data/Only Performances/55_rhy1_per152958_pass_resample.wav\n",
            "data/Only Performances/52_rhy2_per147659_pass_resample.wav\n",
            "data/Only Performances/66_rhy1_per1823742_pass_resample.wav\n",
            "data/Only Performances/54_rhy1_per119859_pass_resample.wav\n",
            "data/Only Performances/53_rhy1_per134758_pass_resample.wav\n",
            "data/Only Performances/58_rhy2_per178060_pass_resample.wav\n",
            "data/Only Performances/52_rhy2_per181659_pass_resample.wav\n",
            "data/Only Performances/67_rhy2_per1428732_pass_resample.wav\n",
            "data/Only Performances/53_rhy1_per147558_pass_resample.wav\n",
            "data/Only Performances/54_rhy1_per153759_pass_resample.wav\n",
            "data/Only Performances/63_rhy2_per1203742_pass_resample.wav\n",
            "data/Only Performances/510_rhy1_per110758_pass_resample.wav\n",
            "data/Only Performances/510_rhy1_per174995_pass_resample.wav\n",
            "data/Only Performances/61_rhy2_per1460752_pass_resample.wav\n",
            "data/Only Performances/64_rhy2_per1254742_pass_resample.wav\n",
            "data/Only Performances/67_rhy2_per1597742_pass_resample.wav\n",
            "data/Only Performances/65_rhy1_per1392742_pass_resample.wav\n",
            "data/Only Performances/54_rhy1_per128695_pass_resample.wav\n",
            "data/Only Performances/55_rhy1_per119658_pass_resample.wav\n",
            "data/Only Performances/58_rhy1_per178060_pass_resample.wav\n",
            "data/Only Performances/52_rhy2_per119659_pass_resample.wav\n",
            "data/Only Performances/58_rhy1_per104359_pass_resample.wav\n",
            "data/Only Performances/55_rhy2_per127558_pass_resample.wav\n",
            "data/Only Performances/55_rhy1_per138459_pass_resample.wav\n",
            "data/Only Performances/51_rhy2_per133859_pass_resample.wav\n",
            "data/Only Performances/66_rhy2_per1213742_pass_resample.wav\n",
            "data/Only Performances/51_rhy2_per127160_fail_resample.wav\n",
            "data/Only Performances/66_rhy2_per1702742_fail_resample.wav\n",
            "data/Only Performances/66_rhy1_per1679742_fail_resample.wav\n",
            "data/Only Performances/53_rhy2_per156160_fail_resample.wav\n",
            "data/Only Performances/66_rhy2_per1338752_fail_resample.wav\n",
            "data/Only Performances/65_rhy1_per1840752_fail_resample.wav\n",
            "data/Only Performances/51_rhy2_per141260_fail_resample.wav\n",
            "data/Only Performances/54_rhy1_per146959_fail_resample.wav\n",
            "data/Only Performances/51_rhy2_per138160_fail_resample.wav\n",
            "data/Only Performances/53_rhy2_per183659_fail_resample.wav\n",
            "data/Only Performances/64_rhy2_per1247742_fail_resample.wav\n",
            "data/Only Performances/64_rhy1_per1199732_fail_resample.wav\n",
            "data/Only Performances/59_rhy1_per123759_fail_resample.wav\n",
            "data/Only Performances/53_rhy1_per156759_fail_resample.wav\n",
            "data/Only Performances/66_rhy1_per1892752_fail_resample.wav\n",
            "data/Only Performances/64_rhy1_per1254742_fail_resample.wav\n",
            "data/Only Performances/63_rhy2_per1851742_fail_resample.wav\n",
            "data/Only Performances/65_rhy1_per1074742_fail_resample.wav\n",
            "data/Only Performances/55_rhy2_per104060_fail_resample.wav\n",
            "data/Only Performances/66_rhy2_per1934742_fail_resample.wav\n",
            "data/Only Performances/52_rhy1_per153895_fail_resample.wav\n",
            "data/Only Performances/52_rhy1_per147659_fail_resample.wav\n",
            "data/Only Performances/58_rhy2_per140260_fail_resample.wav\n",
            "data/Only Performances/58_rhy1_per110060_fail_resample.wav\n",
            "data/Only Performances/52_rhy1_per157160_fail_resample.wav\n",
            "data/Only Performances/64_rhy1_per1453742_fail_resample.wav\n",
            "data/Only Performances/510_rhy1_per131559_fail_resample.wav\n",
            "data/Only Performances/67_rhy2_per1393742_fail_resample.wav\n",
            "data/Only Performances/63_rhy2_per1908742_fail_resample.wav\n",
            "data/Only Performances/64_rhy2_per1023742_fail_resample.wav\n",
            "data/Only Performances/53_rhy2_per115558_fail_resample.wav\n",
            "data/Only Performances/58_rhy2_per110060_fail_resample.wav\n",
            "data/Only Performances/61_rhy2_per1878742_fail_resample.wav\n",
            "data/Only Performances/64_rhy2_per1978742_fail_resample.wav\n",
            "data/Only Performances/66_rhy1_per1728732_fail_resample.wav\n",
            "data/Only Performances/61_rhy2_per1512752_fail_resample.wav\n",
            "data/Only Performances/67_rhy2_per1590752_fail_resample.wav\n",
            "data/Only Performances/65_rhy1_per1328742_fail_resample.wav\n",
            "data/Only Performances/510_rhy1_per154659_fail_resample.wav\n",
            "data/Only Performances/53_rhy1_per172160_fail_resample.wav\n",
            "data/Only References/64_rhy1_ref1199732_resample.wav\n",
            "data/Only References/58_rhy2_ref175685_resample.wav\n",
            "data/Only References/61_rhy2_ref1457742_resample.wav\n",
            "data/Only References/59_rhy1_ref113695_resample.wav\n",
            "data/Only References/55_rhy1_ref127859_resample.wav\n",
            "data/Only References/63_rhy2_ref1176742_resample.wav\n",
            "data/Only References/52_rhy1_ref147659_resample.wav\n",
            "data/Only References/58_rhy1_ref104359_resample.wav\n",
            "data/Only References/55_rhy2_ref162559_resample.wav\n",
            "data/Only References/55_rhy2_ref162559_resample.wav\n",
            "data/Only References/53_rhy2_ref135059_resample.wav\n",
            "data/Only References/59_rhy1_ref113695_resample.wav\n",
            "data/Only References/52_rhy2_ref120659_resample.wav\n",
            "data/Only References/59_rhy1_ref113695_resample.wav\n",
            "data/Only References/55_rhy1_ref127859_resample.wav\n",
            "data/Only References/52_rhy2_ref120659_resample.wav\n",
            "data/Only References/66_rhy1_ref1325752_resample.wav\n",
            "data/Only References/54_rhy1_ref113160_resample.wav\n",
            "data/Only References/53_rhy1_ref187859_resample.wav\n",
            "data/Only References/58_rhy2_ref175685_resample.wav\n",
            "data/Only References/52_rhy2_ref120659_resample.wav\n",
            "data/Only References/67_rhy2_ref1043752_resample.wav\n",
            "data/Only References/53_rhy1_ref187859_resample.wav\n",
            "data/Only References/54_rhy1_ref113160_resample.wav\n",
            "data/Only References/63_rhy2_ref1176742_resample.wav\n",
            "data/Only References/510_rhy1_ref104558_resample.wav\n",
            "data/Only References/510_rhy1_ref104558_resample.wav\n",
            "data/Only References/61_rhy2_ref1457742_resample.wav\n",
            "data/Only References/64_rhy2_ref1453742_resample.wav\n",
            "data/Only References/67_rhy2_ref1043752_resample.wav\n",
            "data/Only References/65_rhy1_ref1328742_resample.wav\n",
            "data/Only References/54_rhy1_ref113160_resample.wav\n",
            "data/Only References/55_rhy1_ref127859_resample.wav\n",
            "data/Only References/58_rhy1_ref104359_resample.wav\n",
            "data/Only References/52_rhy2_ref120659_resample.wav\n",
            "data/Only References/58_rhy1_ref104359_resample.wav\n",
            "data/Only References/55_rhy2_ref162559_resample.wav\n",
            "data/Only References/55_rhy1_ref127859_resample.wav\n",
            "data/Only References/51_rhy2_ref126659_resample.wav\n",
            "data/Only References/66_rhy2_ref1397752_resample.wav\n",
            "data/Only References/51_rhy2_ref126659_resample.wav\n",
            "data/Only References/66_rhy2_ref1397752_resample.wav\n",
            "data/Only References/66_rhy1_ref1325752_resample.wav\n",
            "data/Only References/53_rhy2_ref135059_resample.wav\n",
            "data/Only References/66_rhy2_ref1397752_resample.wav\n",
            "data/Only References/65_rhy1_ref1328742_resample.wav\n",
            "data/Only References/51_rhy2_ref126659_resample.wav\n",
            "data/Only References/54_rhy1_ref113160_resample.wav\n",
            "data/Only References/51_rhy2_ref126659_resample.wav\n",
            "data/Only References/53_rhy2_ref135059_resample.wav\n",
            "data/Only References/64_rhy2_ref1453742_resample.wav\n",
            "data/Only References/64_rhy1_ref1199732_resample.wav\n",
            "data/Only References/59_rhy1_ref113695_resample.wav\n",
            "data/Only References/53_rhy1_ref187859_resample.wav\n",
            "data/Only References/66_rhy1_ref1325752_resample.wav\n",
            "data/Only References/64_rhy1_ref1199732_resample.wav\n",
            "data/Only References/63_rhy2_ref1176742_resample.wav\n",
            "data/Only References/65_rhy1_ref1328742_resample.wav\n",
            "data/Only References/55_rhy2_ref162559_resample.wav\n",
            "data/Only References/66_rhy2_ref1397752_resample.wav\n",
            "data/Only References/52_rhy1_ref147659_resample.wav\n",
            "data/Only References/52_rhy1_ref147659_resample.wav\n",
            "data/Only References/58_rhy2_ref175685_resample.wav\n",
            "data/Only References/58_rhy1_ref104359_resample.wav\n",
            "data/Only References/52_rhy1_ref147659_resample.wav\n",
            "data/Only References/64_rhy1_ref1199732_resample.wav\n",
            "data/Only References/510_rhy1_ref104558_resample.wav\n",
            "data/Only References/67_rhy2_ref1043752_resample.wav\n",
            "data/Only References/63_rhy2_ref1176742_resample.wav\n",
            "data/Only References/64_rhy2_ref1453742_resample.wav\n",
            "data/Only References/53_rhy2_ref135059_resample.wav\n",
            "data/Only References/58_rhy2_ref175685_resample.wav\n",
            "data/Only References/61_rhy2_ref1457742_resample.wav\n",
            "data/Only References/64_rhy2_ref1453742_resample.wav\n",
            "data/Only References/66_rhy1_ref1325752_resample.wav\n",
            "data/Only References/61_rhy2_ref1457742_resample.wav\n",
            "data/Only References/67_rhy2_ref1043752_resample.wav\n",
            "data/Only References/65_rhy1_ref1328742_resample.wav\n",
            "data/Only References/510_rhy1_ref104558_resample.wav\n",
            "data/Only References/53_rhy1_ref187859_resample.wav\n"
          ],
          "name": "stdout"
        }
      ]
    },
    {
      "cell_type": "markdown",
      "metadata": {
        "id": "4y4QgMCTtvoQ",
        "colab_type": "text"
      },
      "source": [
        "# **Machine Learning**"
      ]
    },
    {
      "cell_type": "markdown",
      "metadata": {
        "id": "5w1NYZpSjgef",
        "colab_type": "text"
      },
      "source": [
        "## Data preparation: feature extraction"
      ]
    },
    {
      "cell_type": "code",
      "metadata": {
        "id": "rziELquf6yUF",
        "colab_type": "code",
        "colab": {}
      },
      "source": [
        "preprocess = True #flag to set preprocessing on/off"
      ],
      "execution_count": 0,
      "outputs": []
    },
    {
      "cell_type": "markdown",
      "metadata": {
        "id": "QIaUIH5s6Kea",
        "colab_type": "text"
      },
      "source": [
        "####Onset detection function features with preprocessing "
      ]
    },
    {
      "cell_type": "code",
      "metadata": {
        "id": "WQDiNhuF0m8S",
        "colab_type": "code",
        "colab": {}
      },
      "source": [
        "if (preprocess == True):\n",
        "  x_performances = np.concatenate((SF_vector_performances,hfc_vector_performances,NRG_dev_vector_performances),axis = 1)\n",
        "  x_references = np.concatenate((SF_vector_references,hfc_vector_references,NRG_dev_vector_references),axis = 1)\n",
        "  X = np.empty((80,2,1549))\n",
        "  X[:,0,:] = x_performances\n",
        "  X[:,1,:] = x_references\n",
        "  #Preprocessing ODFs: aligning via setting boundaries to first and last peaks and resampling\n",
        "  X_prep = preprocessX(X)\n",
        "\n",
        "  X_prep = X_prep.reshape((X_prep.shape[0], X_prep.shape[1], X_prep.shape[2],-1))\n",
        "\n",
        "  resamp_size = 128\n",
        "  number_of_sample = 80\n",
        "  X_SF_per = X_prep[:,0,:,:].reshape((number_of_sample,resamp_size))\n",
        "  X_HFC_per = X_prep[:,1,:,:].reshape((number_of_sample,resamp_size))\n",
        "  X_NRG_per = X_prep[:,2,:,:].reshape((number_of_sample,resamp_size))\n",
        "  X_NRG_ref = X_prep[:,3,:,:].reshape((number_of_sample,resamp_size))\n",
        "  X_HFC_ref = X_prep[:,4,:,:].reshape((number_of_sample,resamp_size))\n",
        "  X_SF_ref = X_prep[:,5,:,:].reshape((number_of_sample,resamp_size))\n",
        "\n",
        "\n",
        "  #Prepare the dataset to calculate distances between spectral flux, energy deviation and high frequency content vectors\n",
        "  ODFs_per_vector = [X_SF_per,X_HFC_per,X_NRG_per]\n",
        "  ODFs_ref_vector = [X_SF_ref,X_HFC_ref,X_NRG_ref]\n",
        "  ODF_dist = []\n",
        "  for i in range(0,3):\n",
        "    x_performances = ODFs_per_vector[i]\n",
        "    x_references = ODFs_ref_vector[i]\n",
        "    ODF_dist.extend(calculate_distance_features(x_references, x_performances).T)\n",
        "\n",
        "  ODF_dist = np.array(ODF_dist).T\n"
      ],
      "execution_count": 0,
      "outputs": []
    },
    {
      "cell_type": "code",
      "metadata": {
        "id": "58-uIzwHN38i",
        "colab_type": "code",
        "outputId": "539fb14f-b6f5-4664-eb35-bffa6ef74a76",
        "colab": {
          "base_uri": "https://localhost:8080/",
          "height": 826
        }
      },
      "source": [
        "  #Plot sample ODFs\n",
        "  k = 1\n",
        "  plt.figure()\n",
        "  plt.plot(X_SF_per[k],label = 'Performance')\n",
        "  plt.plot(X_SF_ref[k], label = 'Reference')\n",
        "  plt.title('Spectral Flux')\n",
        "  plt.legend()\n",
        "  plt.figure()\n",
        "  plt.plot(X_HFC_per[k],label = 'Performance')\n",
        "  plt.plot(X_HFC_ref[k], label = 'Reference')\n",
        "  plt.title('High Frequency Content')\n",
        "  plt.legend()\n",
        "\n",
        "  plt.figure()\n",
        "  plt.plot(X_NRG_per[k],label = 'Performance')\n",
        "  plt.plot(X_NRG_ref[k], label = 'Reference')\n",
        "  plt.title('Energy Deviation')\n",
        "  plt.legend()"
      ],
      "execution_count": 19,
      "outputs": [
        {
          "output_type": "execute_result",
          "data": {
            "text/plain": [
              "<matplotlib.legend.Legend at 0x7f74f3382e48>"
            ]
          },
          "metadata": {
            "tags": []
          },
          "execution_count": 19
        },
        {
          "output_type": "display_data",
          "data": {
            "image/png": "[encoded data removed]",
            "text/plain": [
              "<Figure size 432x288 with 1 Axes>"
            ]
          },
          "metadata": {
            "tags": [],
            "needs_background": "light"
          }
        },
        {
          "output_type": "display_data",
          "data": {
            "image/png": "[encoded data removed]",
            "text/plain": [
              "<Figure size 432x288 with 1 Axes>"
            ]
          },
          "metadata": {
            "tags": [],
            "needs_background": "light"
          }
        },
        {
          "output_type": "display_data",
          "data": {
            "image/png": "[encoded data removed]",
            "text/plain": [
              "<Figure size 432x288 with 1 Axes>"
            ]
          },
          "metadata": {
            "tags": [],
            "needs_background": "light"
          }
        }
      ]
    },
    {
      "cell_type": "markdown",
      "metadata": {
        "id": "-L7SE7Ud68Zm",
        "colab_type": "text"
      },
      "source": [
        "####Onset detection function features without preprocessing\n",
        "\n",
        "\n"
      ]
    },
    {
      "cell_type": "code",
      "metadata": {
        "id": "QJZn61Zl6wLg",
        "colab_type": "code",
        "colab": {}
      },
      "source": [
        "if (preprocess == False):\n",
        "  ODFs_per_vector = [SF_vector_performances,hfc_vector_performances,NRG_dev_vector_performances]\n",
        "  ODFs_ref_vector = [SF_vector_references,hfc_vector_references,NRG_dev_vector_references]\n",
        "  ODF_dist = []\n",
        "  for i in range(0,3):\n",
        "    x_performances = ODFs_per_vector[i]\n",
        "    x_references = ODFs_ref_vector[i]\n",
        "    ODF_dist.extend(calculate_distance_features(x_references, x_performances).T)\n",
        "\n",
        "  ODF_dist = np.array(ODF_dist).T\n",
        "\n",
        "  #Plot sample ODFs\n",
        "  k = 3\n",
        "  plt.figure()\n",
        "  plt.plot(SF_vector_performances[k],label = 'Performance')\n",
        "  plt.plot(SF_vector_references[k], label = 'Reference')\n",
        "  plt.title('Spectral Flux')\n",
        "  plt.legend()\n",
        "  plt.figure()\n",
        "  plt.plot(hfc_vector_performances[k],label = 'Performance')\n",
        "  plt.plot(hfc_vector_references[k], label = 'Reference')\n",
        "  plt.title('High Frequency Content')\n",
        "  plt.legend()\n",
        "\n",
        "  plt.figure()\n",
        "  plt.plot(NRG_dev_vector_performances[k],label = 'Performance')\n",
        "  plt.plot(NRG_dev_vector_references[k], label = 'Reference')\n",
        "  plt.title('Energy Deviation')\n",
        "  plt.legend()"
      ],
      "execution_count": 0,
      "outputs": []
    },
    {
      "cell_type": "markdown",
      "metadata": {
        "id": "hFbFYYXx6cRQ",
        "colab_type": "text"
      },
      "source": [
        "####Extract the annotations and binary onset vectors"
      ]
    },
    {
      "cell_type": "code",
      "metadata": {
        "id": "vLQlqStf6bgL",
        "colab_type": "code",
        "colab": {}
      },
      "source": [
        "onset_dist, annotations = load_onsetDistances_labels()"
      ],
      "execution_count": 0,
      "outputs": []
    },
    {
      "cell_type": "markdown",
      "metadata": {
        "id": "8vVvAMY46lYF",
        "colab_type": "text"
      },
      "source": [
        "#### Combine features and define the target grades"
      ]
    },
    {
      "cell_type": "code",
      "metadata": {
        "id": "jjh42XAD5Tum",
        "colab_type": "code",
        "cellView": "both",
        "colab": {}
      },
      "source": [
        "#Merging distances computed from onset detection function and distances computed from onsets\n",
        "data = np.concatenate((ODF_dist, onset_dist),axis = 1)\n",
        "#Collecting true label as average of human annotations(excluding extremes)\n",
        "target = calculate_average_grade(annotations)"
      ],
      "execution_count": 0,
      "outputs": []
    },
    {
      "cell_type": "markdown",
      "metadata": {
        "id": "AnY6YHzRkW7y",
        "colab_type": "text"
      },
      "source": [
        "## Initializing machine learning models"
      ]
    },
    {
      "cell_type": "code",
      "metadata": {
        "id": "drXKalKdtt55",
        "colab_type": "code",
        "colab": {}
      },
      "source": [
        "#design regression methods\n",
        "random_state = 7\n",
        "r1 = LinearRegression()\n",
        "r2 = RandomForestRegressor(random_state=random_state)\n",
        "r3 = AdaBoostRegressor(random_state=random_state)\n",
        "r4 = BaggingRegressor(random_state=random_state)\n",
        "r5 = ExtraTreesRegressor(random_state=random_state)\n",
        "er = VotingRegressor([('lr', r1), ('rf', r2), ('ab',r3),('bagging',r4),('etr',r5)]) #combine other regression models\n",
        "\n",
        "models = []\n",
        "models.append(('LR', LinearRegression()))\n",
        "models.append(('RF',RandomForestRegressor(random_state=random_state)))\n",
        "models.append(('Adaboost', AdaBoostRegressor(random_state=random_state)))\n",
        "models.append(('Bagging', BaggingRegressor(random_state=random_state)))\n",
        "models.append(('ETR',ExtraTreesRegressor(random_state=random_state)))\n",
        "models.append(('VR',er))\n"
      ],
      "execution_count": 0,
      "outputs": []
    },
    {
      "cell_type": "markdown",
      "metadata": {
        "id": "gJJU-VrVlpLC",
        "colab_type": "text"
      },
      "source": [
        "## Training and testing of the models"
      ]
    },
    {
      "cell_type": "code",
      "metadata": {
        "id": "TSj1MNosNbmH",
        "colab_type": "code",
        "colab": {}
      },
      "source": [
        "#Split the data train and test\n",
        "indices = np.arange(data.shape[0])\n",
        "X_train, X_test, y_train, y_test, idx_train, idx_test = train_test_split(data, target, indices, test_size=0.2, random_state=42)"
      ],
      "execution_count": 0,
      "outputs": []
    },
    {
      "cell_type": "markdown",
      "metadata": {
        "id": "Y2sCPKwRJR4t",
        "colab_type": "text"
      },
      "source": [
        "Feature normalization"
      ]
    },
    {
      "cell_type": "code",
      "metadata": {
        "id": "PqCxassXJQwn",
        "colab_type": "code",
        "colab": {}
      },
      "source": [
        "from sklearn.preprocessing import MinMaxScaler\n",
        "scaler = MinMaxScaler()\n",
        "#Learn scaler from train data and apply it to train and test data\n",
        "X_train = scaler.fit_transform(X_train)\n",
        "X_test = scaler.transform(X_test)"
      ],
      "execution_count": 0,
      "outputs": []
    },
    {
      "cell_type": "code",
      "metadata": {
        "id": "zxvOXUX8e3Qf",
        "colab_type": "code",
        "colab": {}
      },
      "source": [
        "from sklearn.metrics import r2_score\n",
        "from sklearn.metrics import mean_squared_error, mean_absolute_error\n",
        "cv = KFold(n_splits=5, shuffle=True, random_state=42)\n",
        "\n",
        "column_names = ['LR', 'RF', 'Adaboost','Bagging', 'ETR', 'VR','DE1','DE2']\n",
        "results_on_test = pd.DataFrame(np.nan, index = ['MAE','MSE','R2'], columns = column_names)\n",
        "\n",
        "cross_val_accuracy_mae = pd.DataFrame(index = range(0,5),columns=column_names[:-2])\n",
        "cross_val_accuracy_mse = pd.DataFrame(index = range(0,5),columns=column_names[:-2])\n",
        "cross_val_accuracy_r2 = pd.DataFrame(index = range(0,5),columns=column_names[:-2])\n",
        "mae = []\n",
        "mse = []\n",
        "r2_s = []\n",
        "\n",
        "\n",
        "\n"
      ],
      "execution_count": 0,
      "outputs": []
    },
    {
      "cell_type": "code",
      "metadata": {
        "id": "yJqaiZtCj_0V",
        "colab_type": "code",
        "outputId": "2540f9c7-ecc8-40a6-f14b-0c2c3f0708b8",
        "colab": {
          "base_uri": "https://localhost:8080/",
          "height": 493
        }
      },
      "source": [
        "for name,model in models:\n",
        "    model.fit(X_train,y_train)\n",
        "    cross_val_accuracy_mae[name] = abs(cross_val_score(model, X_train, y_train, scoring='neg_mean_absolute_error', cv=cv))\n",
        "    cross_val_accuracy_mse[name] = abs(cross_val_score(model, X_train, y_train, scoring='neg_mean_squared_error', cv=cv))\n",
        "    cross_val_accuracy_r2[name] = cross_val_score(model, X_train, y_train, scoring='r2', cv=cv)\n",
        "    y_pred = model.predict(X_test)\n",
        "    mae.append(mean_absolute_error(y_test,y_pred))\n",
        "    mse.append(mean_squared_error(y_test,y_pred))\n",
        "    r2_s.append(r2_score(y_test,y_pred))\n",
        "#Generate dump estimators predictions\n",
        "mae.append(mean_absolute_error(y_test, np.full_like(y_test, 2)))\n",
        "mae.append(mean_absolute_error(y_test, np.full_like(y_test, 3)))\n",
        "mse.append(mean_squared_error(y_test, np.full_like(y_test, 2)))\n",
        "mse.append(mean_squared_error(y_test, np.full_like(y_test, 3)))\n",
        "r2_s.append(r2_score(y_test, np.full_like(y_test, 2)))\n",
        "r2_s.append(r2_score(y_test, np.full_like(y_test, 3)))\n",
        "\n",
        "results_on_test.loc['MAE']=mae\n",
        "results_on_test.loc['MSE']=mse\n",
        "results_on_test.loc['R2']=r2_s\n",
        "\n",
        "print('Cross-validation MAE on train data')\n",
        "print(cross_val_accuracy_mae)\n",
        "\n",
        "print('Cross-validation MSE on train data')\n",
        "print(cross_val_accuracy_mse)\n",
        "\n",
        "print('Cross-validation R2 score on train data')\n",
        "print(cross_val_accuracy_r2)\n",
        "\n",
        "print('Results on Test Set')\n",
        "print(results_on_test)\n"
      ],
      "execution_count": 27,
      "outputs": [
        {
          "output_type": "stream",
          "text": [
            "Cross-validation MAE on train data\n",
            "         LR        RF  Adaboost   Bagging       ETR        VR\n",
            "0  0.924512  0.707385  0.863598  0.740000  0.753231  0.724983\n",
            "1  0.573988  0.599538  0.504251  0.556923  0.624923  0.538810\n",
            "2  0.643707  0.696308  0.782531  0.789231  0.683692  0.699800\n",
            "3  0.843008  0.828462  0.875752  0.816923  0.867077  0.835383\n",
            "4  1.195602  0.631333  0.622673  0.693333  0.646333  0.655849\n",
            "Cross-validation MSE on train data\n",
            "         LR        RF  Adaboost   Bagging       ETR        VR\n",
            "0  1.250229  0.604017  0.839854  0.777754  0.671476  0.662073\n",
            "1  0.418659  0.429160  0.338113  0.383631  0.498119  0.359198\n",
            "2  0.519353  0.698783  0.916313  0.911292  0.676657  0.680064\n",
            "3  1.061372  1.093222  1.281502  1.051231  1.189249  1.107181\n",
            "4  2.089976  0.607381  0.523650  0.801933  0.634667  0.707551\n",
            "Cross-validation R2 score on train data\n",
            "         LR        RF  Adaboost   Bagging       ETR        VR\n",
            "0 -1.034752  0.016961 -0.366866 -0.265797 -0.092830 -0.077526\n",
            "1  0.370969  0.355191  0.491989  0.423599  0.251581  0.460308\n",
            "2  0.040968 -0.290366 -0.692056 -0.682784 -0.249508 -0.255800\n",
            "3 -0.168394 -0.203456 -0.410721 -0.157230 -0.309165 -0.218822\n",
            "4 -1.762083  0.197293  0.307952 -0.059824  0.161233  0.064910\n",
            "Results on Test Set\n",
            "           LR        RF  Adaboost  ...        VR       DE1       DE2\n",
            "MAE  0.619627  0.657000  0.642877  ...  0.572065  1.062500  0.737500\n",
            "MSE  0.519743  0.750799  0.722103  ...  0.557679  1.502500  0.877500\n",
            "R2   0.382980  0.108679  0.142745  ...  0.337944 -0.783714 -0.041736\n",
            "\n",
            "[3 rows x 8 columns]\n"
          ],
          "name": "stdout"
        }
      ]
    },
    {
      "cell_type": "code",
      "metadata": {
        "id": "PyDc4YbZsE0M",
        "colab_type": "code",
        "outputId": "387a3afd-02fd-4cc0-897e-0094661e1db4",
        "colab": {
          "base_uri": "https://localhost:8080/",
          "height": 170
        }
      },
      "source": [
        "results_on_test.loc['MAE']"
      ],
      "execution_count": 28,
      "outputs": [
        {
          "output_type": "execute_result",
          "data": {
            "text/plain": [
              "LR          0.619627\n",
              "RF          0.657000\n",
              "Adaboost    0.642877\n",
              "Bagging     0.681250\n",
              "ETR         0.584375\n",
              "VR          0.572065\n",
              "DE1         1.062500\n",
              "DE2         0.737500\n",
              "Name: MAE, dtype: float64"
            ]
          },
          "metadata": {
            "tags": []
          },
          "execution_count": 28
        }
      ]
    },
    {
      "cell_type": "code",
      "metadata": {
        "id": "zpPiCZEyHemo",
        "colab_type": "code",
        "outputId": "9043c4b5-4e83-4c39-b183-4eeef5502abc",
        "colab": {
          "base_uri": "https://localhost:8080/",
          "height": 833
        }
      },
      "source": [
        "print('Average MAE of cross validation')\n",
        "print(cross_val_accuracy_mae.mean())\n",
        "\n",
        "print('Standart Deviation of Each Algoritm on Cross-Validation')\n",
        "print(cross_val_accuracy_mae.std())    \n",
        "\n",
        "\n",
        "print('Average MSE of cross validation')\n",
        "print(cross_val_accuracy_mse.mean())\n",
        "\n",
        "print('Standart Deviation of Each Algoritm on Cross-Validation')\n",
        "print(cross_val_accuracy_mse.std())   \n",
        "\n",
        "\n",
        "print('Average R2 Score of cross validation')\n",
        "print(cross_val_accuracy_r2.mean())\n",
        "\n",
        "print('Standart Deviation of Each Algoritm on Cross-Validation')\n",
        "print(cross_val_accuracy_r2.std())    \n",
        "\n"
      ],
      "execution_count": 29,
      "outputs": [
        {
          "output_type": "stream",
          "text": [
            "Average MAE of cross validation\n",
            "LR          0.836163\n",
            "RF          0.692605\n",
            "Adaboost    0.729761\n",
            "Bagging     0.719282\n",
            "ETR         0.715051\n",
            "VR          0.690965\n",
            "dtype: float64\n",
            "Standart Deviation of Each Algoritm on Cross-Validation\n",
            "LR          0.246386\n",
            "RF          0.088183\n",
            "Adaboost    0.161503\n",
            "Bagging     0.102335\n",
            "ETR         0.097977\n",
            "VR          0.107791\n",
            "dtype: float64\n",
            "Average MSE of cross validation\n",
            "LR          1.067918\n",
            "RF          0.686513\n",
            "Adaboost    0.779886\n",
            "Bagging     0.785168\n",
            "ETR         0.734034\n",
            "VR          0.703213\n",
            "dtype: float64\n",
            "Standart Deviation of Each Algoritm on Cross-Validation\n",
            "LR          0.670884\n",
            "RF          0.247417\n",
            "Adaboost    0.365598\n",
            "Bagging     0.249131\n",
            "ETR         0.264554\n",
            "VR          0.266356\n",
            "dtype: float64\n",
            "Average R2 Score of cross validation\n",
            "LR         -0.510658\n",
            "RF          0.015125\n",
            "Adaboost   -0.133940\n",
            "Bagging    -0.148407\n",
            "ETR        -0.047738\n",
            "VR         -0.005386\n",
            "dtype: float64\n",
            "Standart Deviation of Each Algoritm on Cross-Validation\n",
            "LR          0.871700\n",
            "RF          0.269229\n",
            "Adaboost    0.507300\n",
            "Bagging     0.398263\n",
            "ETR         0.247158\n",
            "VR          0.289516\n",
            "dtype: float64\n"
          ],
          "name": "stdout"
        }
      ]
    },
    {
      "cell_type": "code",
      "metadata": {
        "id": "sjM5MGOA2cF6",
        "colab_type": "code",
        "outputId": "7dfcaec2-fda0-4e38-cbf2-1d770deace49",
        "colab": {
          "base_uri": "https://localhost:8080/",
          "height": 298
        }
      },
      "source": [
        "MAE_bar = pd.DataFrame(columns = column_names)\n",
        "\n",
        "for name,model in models:\n",
        "    model.fit(X_train,y_train)\n",
        "    y_pred = model.predict(X_test)\n",
        "    MAE_bar[name] = abs(y_test-y_pred)\n",
        "\n",
        "MAE_bar['DE1'] = abs(y_test- np.full_like(y_test, 2))\n",
        "MAE_bar['DE2'] = abs(y_test- np.full_like(y_test, 3))\n",
        "means = MAE_bar.mean()\n",
        "stds = MAE_bar.std()\n",
        "mins = MAE_bar.min()\n",
        "maxes = MAE_bar.max()\n",
        "plt.errorbar(column_names, means, stds, fmt='ok', lw=3)\n",
        "plt.errorbar(column_names, means, [means - mins, maxes - means],\n",
        "             fmt='.k', ecolor='gray', lw=1)\n",
        "plt.ylabel(\"Average MAE\")\n",
        "plt.title('Algorithms performances over test set')"
      ],
      "execution_count": 30,
      "outputs": [
        {
          "output_type": "execute_result",
          "data": {
            "text/plain": [
              "Text(0.5, 1.0, 'Algorithms performances over test set')"
            ]
          },
          "metadata": {
            "tags": []
          },
          "execution_count": 30
        },
        {
          "output_type": "display_data",
          "data": {
            "image/png": "[encoded data removed]",
            "text/plain": [
              "<Figure size 432x288 with 1 Axes>"
            ]
          },
          "metadata": {
            "tags": [],
            "needs_background": "light"
          }
        }
      ]
    },
    {
      "cell_type": "markdown",
      "metadata": {
        "id": "lToGJx71lfL3",
        "colab_type": "text"
      },
      "source": [
        "## Study of feature importance"
      ]
    },
    {
      "cell_type": "code",
      "metadata": {
        "id": "u45peO4Huo8q",
        "colab_type": "code",
        "outputId": "7378aae6-c37a-4154-dbd0-42cf79563c89",
        "colab": {
          "base_uri": "https://localhost:8080/",
          "height": 762
        }
      },
      "source": [
        "from numpy import sort\n",
        "#Calculate the feature importances according to the Random Forest Regressor\n",
        "chosed_model = r2\n",
        "feature_names = ['maximum distance (applied on SF)','L1 norm (applied on SF)','L2 norm (applied on SF)','cosine similarity (applied on SF)','earth mover distance (applied on SF)','maximum distance (applied on HFC)','L1 norm (applied on HFC)','L2 norm (applied on HFC)','cosine similarity (applied on HFC)','earth mover distance (applied on HFC)','maximum distance (applied on NRG)','L1 norm (applied on NRG)','L2 norm (applied on NRG)','cosine similarity (applied on NRG)','earth mover distance (applied on NRG)',        'beat_difference (applied on onset vectors)','mean squared error (applied on onset vectors)','levenshtein (applied on onset vectors)', 'damerau_levenshtein (applied on onset vectors)', 'jaro (applied on onset vectors)', 'jaro_winkler (applied on onset vectors)', 'hamming (applied on onset vectors)', 'yule (applied on onset vectors)']\n",
        "chosed_model.fit(X_train,y_train)\n",
        "\n",
        "print(\"Features sorted by their score:\")\n",
        "print(sorted(zip(map(lambda x: round(x, 2), chosed_model.feature_importances_), feature_names), \n",
        "             reverse=True))\n",
        "\n",
        "sorted_idx = chosed_model.feature_importances_.argsort()\n",
        "\n",
        "y_ticks = np.arange(0, len(feature_names))\n",
        "\n",
        "sorted_feature_names = np.empty_like(feature_names)\n",
        "t = 0\n",
        "for i in sorted_idx:\n",
        "  sorted_feature_names[t] = feature_names[i]\n",
        "  t = t+1\n",
        "\n",
        "fig, ax = plt.subplots(figsize=(20, 10))\n",
        "ax.barh(y_ticks, chosed_model.feature_importances_[sorted_idx])\n",
        "ax.set_yticklabels(sorted_feature_names)\n",
        "ax.set_yticks(y_ticks)\n",
        "ax.set_title(\"Random Forest Algorithm Feature Importances\")\n",
        "plt.rc('font', size=20) \n",
        "\n",
        "fig.tight_layout()\n",
        "plt.show()"
      ],
      "execution_count": 31,
      "outputs": [
        {
          "output_type": "stream",
          "text": [
            "Features sorted by their score:\n",
            "[(0.21, 'mean squared error (applied on onset vectors)'), (0.1, 'damerau_levenshtein (applied on onset vectors)'), (0.09, 'earth mover distance (applied on HFC)'), (0.08, 'yule (applied on onset vectors)'), (0.07, 'maximum distance (applied on SF)'), (0.05, 'earth mover distance (applied on NRG)'), (0.04, 'levenshtein (applied on onset vectors)'), (0.04, 'earth mover distance (applied on SF)'), (0.04, 'cosine similarity (applied on SF)'), (0.03, 'jaro_winkler (applied on onset vectors)'), (0.03, 'jaro (applied on onset vectors)'), (0.03, 'L1 norm (applied on NRG)'), (0.02, 'maximum distance (applied on NRG)'), (0.02, 'maximum distance (applied on HFC)'), (0.02, 'hamming (applied on onset vectors)'), (0.02, 'cosine similarity (applied on NRG)'), (0.02, 'beat_difference (applied on onset vectors)'), (0.02, 'L2 norm (applied on NRG)'), (0.02, 'L1 norm (applied on HFC)'), (0.01, 'cosine similarity (applied on HFC)'), (0.01, 'L2 norm (applied on SF)'), (0.01, 'L2 norm (applied on HFC)'), (0.01, 'L1 norm (applied on SF)')]\n"
          ],
          "name": "stdout"
        },
        {
          "output_type": "display_data",
          "data": {
            "image/png": "[encoded data removed]",
            "text/plain": [
              "<Figure size 1440x720 with 1 Axes>"
            ]
          },
          "metadata": {
            "tags": [],
            "needs_background": "light"
          }
        }
      ]
    },
    {
      "cell_type": "code",
      "metadata": {
        "id": "iJt6px8N7ir3",
        "colab_type": "code",
        "colab": {}
      },
      "source": [
        "from sklearn.feature_selection import SelectFromModel\n",
        "thresholds = sort(chosed_model.feature_importances_)\n",
        "k = 23\n",
        "column_names = ['LR', 'RF', 'Adaboost','Bagging', 'ETR', 'VR']\n",
        "thresholds_df_mae = pd.DataFrame(np.nan, index=range(0,k), columns=column_names)\n",
        "thresholds_df_mse = pd.DataFrame(np.nan, index=range(0,k), columns=column_names)\n",
        "thresholds_df_r2 = pd.DataFrame(np.nan, index=range(0,k), columns=column_names)\n",
        "\n",
        "for thresh in thresholds:\n",
        "    k = k-1\n",
        "    selection = SelectFromModel(chosed_model, threshold=thresh, prefit=True)\n",
        "    select_X_train = selection.transform(X_train)\n",
        "    select_X_test = selection.transform(X_test)\n",
        "    # train model\n",
        "    \n",
        "    results_on_test_feature_imp = pd.DataFrame(np.nan,index = [0],columns = column_names)\n",
        "    results_on_test_feature_imp_MSE = pd.DataFrame(np.nan,index = [0],columns = column_names)\n",
        "    results_on_test_feature_imp_R2 = pd.DataFrame(np.nan,index = [0],columns = column_names)\n",
        "    for name,model in models:\n",
        "        model.fit(select_X_train,y_train)\n",
        "        y_pred = model.predict(select_X_test)\n",
        "        results_on_test_feature_imp[name] = mean_absolute_error(y_test,y_pred)\n",
        "        results_on_test_feature_imp_MSE[name] = mean_squared_error(y_test,y_pred)\n",
        "        results_on_test_feature_imp_R2[name] = r2_score(y_test,y_pred)\n",
        "        thresholds_df_mae.loc[k] = np.array(results_on_test_feature_imp)\n",
        "        thresholds_df_mse.loc[k] = np.array(results_on_test_feature_imp_MSE)\n",
        "        thresholds_df_r2.loc[k] = np.array(results_on_test_feature_imp_R2)\n",
        "\n",
        "\n",
        "\n",
        "    \n"
      ],
      "execution_count": 0,
      "outputs": []
    },
    {
      "cell_type": "code",
      "metadata": {
        "id": "DQT1GtDyy1CA",
        "colab_type": "code",
        "outputId": "e225b25b-9259-4498-a45a-4e18f96a56bb",
        "colab": {
          "base_uri": "https://localhost:8080/",
          "height": 319
        }
      },
      "source": [
        "plt.figure(figsize=(20,10))\n",
        "plt.rc('font',size=12)\n",
        "\n",
        "thresholds_df_mae.plot.line()\n",
        "plt.xlabel('Number of Features')\n",
        "plt.ylabel('MAE')\n",
        "\n"
      ],
      "execution_count": 33,
      "outputs": [
        {
          "output_type": "execute_result",
          "data": {
            "text/plain": [
              "Text(0, 0.5, 'MAE')"
            ]
          },
          "metadata": {
            "tags": []
          },
          "execution_count": 33
        },
        {
          "output_type": "display_data",
          "data": {
            "text/plain": [
              "<Figure size 1440x720 with 0 Axes>"
            ]
          },
          "metadata": {
            "tags": []
          }
        },
        {
          "output_type": "display_data",
          "data": {
            "image/png": "[encoded data removed]",
            "text/plain": [
              "<Figure size 432x288 with 1 Axes>"
            ]
          },
          "metadata": {
            "tags": [],
            "needs_background": "light"
          }
        }
      ]
    },
    {
      "cell_type": "markdown",
      "metadata": {
        "id": "UE9LGy4dlS5m",
        "colab_type": "text"
      },
      "source": [
        "# **Analysis of human annotation consistency**"
      ]
    },
    {
      "cell_type": "code",
      "metadata": {
        "id": "y6vT3H0TkPDR",
        "colab_type": "code",
        "outputId": "2e500b75-0c15-4879-c214-f86d1fd75172",
        "colab": {
          "base_uri": "https://localhost:8080/",
          "height": 587
        }
      },
      "source": [
        "def calculate_performance_of_jury_member(annotations,target):\n",
        "    \n",
        "    cols = ['Jury 1','Jury 2','Jury 3','Jury 4','Jury 5','Jury 6','Jury 7']\n",
        "    jury_performance = pd.DataFrame(columns = cols)\n",
        "    for i in range(0,7):\n",
        "        col_name = 'Jury %i' % (i+1) \n",
        "        one_out_target = (annotations.sum(axis=1)-annotations[:,i])/6\n",
        "        jury_performance[col_name] =abs(annotations[:,i]-one_out_target)\n",
        "        \n",
        "    return jury_performance\n",
        "\n",
        "plt.figure()\n",
        "cols = ['Jury 1','Jury 2','Jury 3','Jury 4','Jury 5','Jury 6','Jury 7']\n",
        "#jury performances over all performances\n",
        "jury_performance = calculate_performance_of_jury_member(annotations,target)\n",
        "means = jury_performance.mean()\n",
        "stds = jury_performance.std()\n",
        "mins = jury_performance.min()\n",
        "maxes = jury_performance.max()\n",
        "plt.errorbar(cols, means, stds, fmt='ok', lw=3)\n",
        "plt.errorbar(cols, means, [means - mins, maxes - means],\n",
        "             fmt='.k', ecolor='gray', lw=1)\n",
        "plt.ylabel(\"Average MAE\")\n",
        "\n",
        "\n",
        "plt.title('jury performances over all performances')\n",
        "\n",
        "plt.figure()\n",
        "#jury performances over test performances\n",
        "jury_performance = calculate_performance_of_jury_member(annotations[idx_test],target[idx_test])\n",
        "means = jury_performance.mean()\n",
        "stds = jury_performance.std()\n",
        "mins = jury_performance.min()\n",
        "maxes = jury_performance.max()\n",
        "plt.errorbar(cols, means, stds, fmt='ok', lw=3)\n",
        "plt.errorbar(cols, means, [means - mins, maxes - means],\n",
        "             fmt='.k', ecolor='gray', lw=1)\n",
        "plt.ylabel(\"Average MAE\")\n",
        "plt.title('jury performances over test set')\n",
        "\n",
        "plt.figure()"
      ],
      "execution_count": 35,
      "outputs": [
        {
          "output_type": "execute_result",
          "data": {
            "text/plain": [
              "<Figure size 432x288 with 0 Axes>"
            ]
          },
          "metadata": {
            "tags": []
          },
          "execution_count": 35
        },
        {
          "output_type": "display_data",
          "data": {
            "image/png": "[encoded data removed]",
            "text/plain": [
              "<Figure size 432x288 with 1 Axes>"
            ]
          },
          "metadata": {
            "tags": [],
            "needs_background": "light"
          }
        },
        {
          "output_type": "display_data",
          "data": {
            "image/png": "[encoded data removed]",
            "text/plain": [
              "<Figure size 432x288 with 1 Axes>"
            ]
          },
          "metadata": {
            "tags": [],
            "needs_background": "light"
          }
        },
        {
          "output_type": "display_data",
          "data": {
            "text/plain": [
              "<Figure size 432x288 with 0 Axes>"
            ]
          },
          "metadata": {
            "tags": []
          }
        }
      ]
    },
    {
      "cell_type": "code",
      "metadata": {
        "id": "tArQ8krOD-Cp",
        "colab_type": "code",
        "outputId": "54662d94-a476-4b6b-93d7-81511984fb13",
        "colab": {
          "base_uri": "https://localhost:8080/",
          "height": 170
        }
      },
      "source": [
        "print('Average MAE error of jury members over test set')\n",
        "print(jury_performance.sum(axis=0)/len(y_test))"
      ],
      "execution_count": 36,
      "outputs": [
        {
          "output_type": "stream",
          "text": [
            "Average MAE error of jury members over test set\n",
            "Jury 1    0.635417\n",
            "Jury 2    0.395833\n",
            "Jury 3    0.406250\n",
            "Jury 4    0.718750\n",
            "Jury 5    0.322917\n",
            "Jury 6    0.520833\n",
            "Jury 7    0.458333\n",
            "dtype: float64\n"
          ],
          "name": "stdout"
        }
      ]
    }
  ]
}